{
 "cells": [
  {
   "cell_type": "markdown",
   "id": "45a1cd52",
   "metadata": {},
   "source": [
    "# Predicting Used Car Prices in India"
   ]
  },
  {
   "cell_type": "markdown",
   "id": "d2e1daca",
   "metadata": {},
   "source": [
    "## Introduction"
   ]
  },
  {
   "cell_type": "markdown",
   "id": "2983d551",
   "metadata": {},
   "source": [
    "The following notebook contains an analysis that uses data on used car sales in India to gain insights into the factors that affect the selling price of a used car and the objective is to be able to predict the price that a used car will sell for using regression techniques.\n",
    "\n",
    "The aim of the project is to be able to price a used car that has not yet been sold based on its features and prices of other similar cars that have been sold.\n",
    "\n",
    "Data was obtained from CarDekho - an online used car sales platform. The dataset contains information on used cars previously sold on the website.\n",
    "\n",
    "The dataset was obtained from Nehal Birla via Kaggle:\n",
    "https://www.kaggle.com/nehalbirla/vehicle-dataset-from-cardekho\n",
    "\n",
    "The columns in the dataset are as follows:\n",
    "- __name__ <br>The manufacturer and model of the car<br>\n",
    "- __year__ <br>The year in which the car was sold\n",
    "- __selling_price__ <br>The price at which the car was sold in Indian Rupees\n",
    "- __km_driven__ <br>The number of kilometers driven in the car\n",
    "- __fuel__ <br>The fuel type used by the car\n",
    "- __seller_type__ <br>The type of seller of the car (e.g. individual, dealer etc.)\n",
    "- __transmission__ <br>Whether the car is automatic or manual\n",
    "- __owner__ <br>Whether the owner of the car was the first owner/ second owner etc."
   ]
  },
  {
   "cell_type": "markdown",
   "id": "d8f217b7",
   "metadata": {},
   "source": [
    "The analysis will be split into the following sections:<br>\n",
    ">__1. Importing and Examination__<br><br>\n",
    "__2. Data Cleaning__<br><br>\n",
    "__3. Exploratory Data Analysis__<br><br>\n",
    "__4. Feature Engineering__<br><br>\n",
    "__5. Model Building__<br><br>\n",
    "__6. Conclusion__<br><br>"
   ]
  },
  {
   "cell_type": "markdown",
   "id": "edd5b405",
   "metadata": {},
   "source": [
    "## 1. Importing and examining the dataset"
   ]
  },
  {
   "cell_type": "code",
   "execution_count": 1,
   "id": "57b5fded",
   "metadata": {
    "scrolled": false
   },
   "outputs": [],
   "source": [
    "import pandas as pd\n",
    "import numpy as np"
   ]
  },
  {
   "cell_type": "code",
   "execution_count": 2,
   "id": "a5cf80c5",
   "metadata": {
    "scrolled": false
   },
   "outputs": [
    {
     "data": {
      "text/html": [
       "<div>\n",
       "<style scoped>\n",
       "    .dataframe tbody tr th:only-of-type {\n",
       "        vertical-align: middle;\n",
       "    }\n",
       "\n",
       "    .dataframe tbody tr th {\n",
       "        vertical-align: top;\n",
       "    }\n",
       "\n",
       "    .dataframe thead th {\n",
       "        text-align: right;\n",
       "    }\n",
       "</style>\n",
       "<table border=\"1\" class=\"dataframe\">\n",
       "  <thead>\n",
       "    <tr style=\"text-align: right;\">\n",
       "      <th></th>\n",
       "      <th>name</th>\n",
       "      <th>year</th>\n",
       "      <th>selling_price</th>\n",
       "      <th>km_driven</th>\n",
       "      <th>fuel</th>\n",
       "      <th>seller_type</th>\n",
       "      <th>transmission</th>\n",
       "      <th>owner</th>\n",
       "      <th>mileage</th>\n",
       "      <th>engine</th>\n",
       "      <th>max_power</th>\n",
       "      <th>torque</th>\n",
       "      <th>seats</th>\n",
       "    </tr>\n",
       "  </thead>\n",
       "  <tbody>\n",
       "    <tr>\n",
       "      <th>0</th>\n",
       "      <td>Maruti Swift Dzire VDI</td>\n",
       "      <td>2014</td>\n",
       "      <td>450000</td>\n",
       "      <td>145500</td>\n",
       "      <td>Diesel</td>\n",
       "      <td>Individual</td>\n",
       "      <td>Manual</td>\n",
       "      <td>First Owner</td>\n",
       "      <td>23.4 kmpl</td>\n",
       "      <td>1248 CC</td>\n",
       "      <td>74 bhp</td>\n",
       "      <td>190Nm@ 2000rpm</td>\n",
       "      <td>5.0</td>\n",
       "    </tr>\n",
       "    <tr>\n",
       "      <th>1</th>\n",
       "      <td>Skoda Rapid 1.5 TDI Ambition</td>\n",
       "      <td>2014</td>\n",
       "      <td>370000</td>\n",
       "      <td>120000</td>\n",
       "      <td>Diesel</td>\n",
       "      <td>Individual</td>\n",
       "      <td>Manual</td>\n",
       "      <td>Second Owner</td>\n",
       "      <td>21.14 kmpl</td>\n",
       "      <td>1498 CC</td>\n",
       "      <td>103.52 bhp</td>\n",
       "      <td>250Nm@ 1500-2500rpm</td>\n",
       "      <td>5.0</td>\n",
       "    </tr>\n",
       "    <tr>\n",
       "      <th>2</th>\n",
       "      <td>Honda City 2017-2020 EXi</td>\n",
       "      <td>2006</td>\n",
       "      <td>158000</td>\n",
       "      <td>140000</td>\n",
       "      <td>Petrol</td>\n",
       "      <td>Individual</td>\n",
       "      <td>Manual</td>\n",
       "      <td>Third Owner</td>\n",
       "      <td>17.7 kmpl</td>\n",
       "      <td>1497 CC</td>\n",
       "      <td>78 bhp</td>\n",
       "      <td>12.7@ 2,700(kgm@ rpm)</td>\n",
       "      <td>5.0</td>\n",
       "    </tr>\n",
       "    <tr>\n",
       "      <th>3</th>\n",
       "      <td>Hyundai i20 Sportz Diesel</td>\n",
       "      <td>2010</td>\n",
       "      <td>225000</td>\n",
       "      <td>127000</td>\n",
       "      <td>Diesel</td>\n",
       "      <td>Individual</td>\n",
       "      <td>Manual</td>\n",
       "      <td>First Owner</td>\n",
       "      <td>23.0 kmpl</td>\n",
       "      <td>1396 CC</td>\n",
       "      <td>90 bhp</td>\n",
       "      <td>22.4 kgm at 1750-2750rpm</td>\n",
       "      <td>5.0</td>\n",
       "    </tr>\n",
       "    <tr>\n",
       "      <th>4</th>\n",
       "      <td>Maruti Swift VXI BSIII</td>\n",
       "      <td>2007</td>\n",
       "      <td>130000</td>\n",
       "      <td>120000</td>\n",
       "      <td>Petrol</td>\n",
       "      <td>Individual</td>\n",
       "      <td>Manual</td>\n",
       "      <td>First Owner</td>\n",
       "      <td>16.1 kmpl</td>\n",
       "      <td>1298 CC</td>\n",
       "      <td>88.2 bhp</td>\n",
       "      <td>11.5@ 4,500(kgm@ rpm)</td>\n",
       "      <td>5.0</td>\n",
       "    </tr>\n",
       "    <tr>\n",
       "      <th>5</th>\n",
       "      <td>Hyundai Xcent 1.2 VTVT E Plus</td>\n",
       "      <td>2017</td>\n",
       "      <td>440000</td>\n",
       "      <td>45000</td>\n",
       "      <td>Petrol</td>\n",
       "      <td>Individual</td>\n",
       "      <td>Manual</td>\n",
       "      <td>First Owner</td>\n",
       "      <td>20.14 kmpl</td>\n",
       "      <td>1197 CC</td>\n",
       "      <td>81.86 bhp</td>\n",
       "      <td>113.75nm@ 4000rpm</td>\n",
       "      <td>5.0</td>\n",
       "    </tr>\n",
       "    <tr>\n",
       "      <th>6</th>\n",
       "      <td>Maruti Wagon R LXI DUO BSIII</td>\n",
       "      <td>2007</td>\n",
       "      <td>96000</td>\n",
       "      <td>175000</td>\n",
       "      <td>LPG</td>\n",
       "      <td>Individual</td>\n",
       "      <td>Manual</td>\n",
       "      <td>First Owner</td>\n",
       "      <td>17.3 km/kg</td>\n",
       "      <td>1061 CC</td>\n",
       "      <td>57.5 bhp</td>\n",
       "      <td>7.8@ 4,500(kgm@ rpm)</td>\n",
       "      <td>5.0</td>\n",
       "    </tr>\n",
       "    <tr>\n",
       "      <th>7</th>\n",
       "      <td>Maruti 800 DX BSII</td>\n",
       "      <td>2001</td>\n",
       "      <td>45000</td>\n",
       "      <td>5000</td>\n",
       "      <td>Petrol</td>\n",
       "      <td>Individual</td>\n",
       "      <td>Manual</td>\n",
       "      <td>Second Owner</td>\n",
       "      <td>16.1 kmpl</td>\n",
       "      <td>796 CC</td>\n",
       "      <td>37 bhp</td>\n",
       "      <td>59Nm@ 2500rpm</td>\n",
       "      <td>4.0</td>\n",
       "    </tr>\n",
       "    <tr>\n",
       "      <th>8</th>\n",
       "      <td>Toyota Etios VXD</td>\n",
       "      <td>2011</td>\n",
       "      <td>350000</td>\n",
       "      <td>90000</td>\n",
       "      <td>Diesel</td>\n",
       "      <td>Individual</td>\n",
       "      <td>Manual</td>\n",
       "      <td>First Owner</td>\n",
       "      <td>23.59 kmpl</td>\n",
       "      <td>1364 CC</td>\n",
       "      <td>67.1 bhp</td>\n",
       "      <td>170Nm@ 1800-2400rpm</td>\n",
       "      <td>5.0</td>\n",
       "    </tr>\n",
       "    <tr>\n",
       "      <th>9</th>\n",
       "      <td>Ford Figo Diesel Celebration Edition</td>\n",
       "      <td>2013</td>\n",
       "      <td>200000</td>\n",
       "      <td>169000</td>\n",
       "      <td>Diesel</td>\n",
       "      <td>Individual</td>\n",
       "      <td>Manual</td>\n",
       "      <td>First Owner</td>\n",
       "      <td>20.0 kmpl</td>\n",
       "      <td>1399 CC</td>\n",
       "      <td>68.1 bhp</td>\n",
       "      <td>160Nm@ 2000rpm</td>\n",
       "      <td>5.0</td>\n",
       "    </tr>\n",
       "  </tbody>\n",
       "</table>\n",
       "</div>"
      ],
      "text/plain": [
       "                                   name  year  selling_price  km_driven  \\\n",
       "0                Maruti Swift Dzire VDI  2014         450000     145500   \n",
       "1          Skoda Rapid 1.5 TDI Ambition  2014         370000     120000   \n",
       "2              Honda City 2017-2020 EXi  2006         158000     140000   \n",
       "3             Hyundai i20 Sportz Diesel  2010         225000     127000   \n",
       "4                Maruti Swift VXI BSIII  2007         130000     120000   \n",
       "5         Hyundai Xcent 1.2 VTVT E Plus  2017         440000      45000   \n",
       "6          Maruti Wagon R LXI DUO BSIII  2007          96000     175000   \n",
       "7                    Maruti 800 DX BSII  2001          45000       5000   \n",
       "8                      Toyota Etios VXD  2011         350000      90000   \n",
       "9  Ford Figo Diesel Celebration Edition  2013         200000     169000   \n",
       "\n",
       "     fuel seller_type transmission         owner     mileage   engine  \\\n",
       "0  Diesel  Individual       Manual   First Owner   23.4 kmpl  1248 CC   \n",
       "1  Diesel  Individual       Manual  Second Owner  21.14 kmpl  1498 CC   \n",
       "2  Petrol  Individual       Manual   Third Owner   17.7 kmpl  1497 CC   \n",
       "3  Diesel  Individual       Manual   First Owner   23.0 kmpl  1396 CC   \n",
       "4  Petrol  Individual       Manual   First Owner   16.1 kmpl  1298 CC   \n",
       "5  Petrol  Individual       Manual   First Owner  20.14 kmpl  1197 CC   \n",
       "6     LPG  Individual       Manual   First Owner  17.3 km/kg  1061 CC   \n",
       "7  Petrol  Individual       Manual  Second Owner   16.1 kmpl   796 CC   \n",
       "8  Diesel  Individual       Manual   First Owner  23.59 kmpl  1364 CC   \n",
       "9  Diesel  Individual       Manual   First Owner   20.0 kmpl  1399 CC   \n",
       "\n",
       "    max_power                    torque  seats  \n",
       "0      74 bhp            190Nm@ 2000rpm    5.0  \n",
       "1  103.52 bhp       250Nm@ 1500-2500rpm    5.0  \n",
       "2      78 bhp     12.7@ 2,700(kgm@ rpm)    5.0  \n",
       "3      90 bhp  22.4 kgm at 1750-2750rpm    5.0  \n",
       "4    88.2 bhp     11.5@ 4,500(kgm@ rpm)    5.0  \n",
       "5   81.86 bhp         113.75nm@ 4000rpm    5.0  \n",
       "6    57.5 bhp      7.8@ 4,500(kgm@ rpm)    5.0  \n",
       "7      37 bhp             59Nm@ 2500rpm    4.0  \n",
       "8    67.1 bhp       170Nm@ 1800-2400rpm    5.0  \n",
       "9    68.1 bhp            160Nm@ 2000rpm    5.0  "
      ]
     },
     "execution_count": 2,
     "metadata": {},
     "output_type": "execute_result"
    }
   ],
   "source": [
    "df = pd.read_csv('used_cars.csv')\n",
    "df.head(10)"
   ]
  },
  {
   "cell_type": "code",
   "execution_count": 3,
   "id": "66db87cf",
   "metadata": {
    "scrolled": false
   },
   "outputs": [
    {
     "name": "stdout",
     "output_type": "stream",
     "text": [
      "<class 'pandas.core.frame.DataFrame'>\n",
      "RangeIndex: 8128 entries, 0 to 8127\n",
      "Data columns (total 13 columns):\n",
      " #   Column         Non-Null Count  Dtype  \n",
      "---  ------         --------------  -----  \n",
      " 0   name           8128 non-null   object \n",
      " 1   year           8128 non-null   int64  \n",
      " 2   selling_price  8128 non-null   int64  \n",
      " 3   km_driven      8128 non-null   int64  \n",
      " 4   fuel           8128 non-null   object \n",
      " 5   seller_type    8128 non-null   object \n",
      " 6   transmission   8128 non-null   object \n",
      " 7   owner          8128 non-null   object \n",
      " 8   mileage        7907 non-null   object \n",
      " 9   engine         7907 non-null   object \n",
      " 10  max_power      7913 non-null   object \n",
      " 11  torque         7906 non-null   object \n",
      " 12  seats          7907 non-null   float64\n",
      "dtypes: float64(1), int64(3), object(9)\n",
      "memory usage: 825.6+ KB\n"
     ]
    }
   ],
   "source": [
    "df.info()"
   ]
  },
  {
   "cell_type": "code",
   "execution_count": 4,
   "id": "e798e36f",
   "metadata": {
    "scrolled": false
   },
   "outputs": [
    {
     "data": {
      "text/plain": [
       "name               0\n",
       "year               0\n",
       "selling_price      0\n",
       "km_driven          0\n",
       "fuel               0\n",
       "seller_type        0\n",
       "transmission       0\n",
       "owner              0\n",
       "mileage          221\n",
       "engine           221\n",
       "max_power        215\n",
       "torque           222\n",
       "seats            221\n",
       "dtype: int64"
      ]
     },
     "execution_count": 4,
     "metadata": {},
     "output_type": "execute_result"
    }
   ],
   "source": [
    "df.isnull().sum()"
   ]
  },
  {
   "cell_type": "code",
   "execution_count": 5,
   "id": "558660c8",
   "metadata": {
    "scrolled": false
   },
   "outputs": [
    {
     "data": {
      "text/html": [
       "<div>\n",
       "<style scoped>\n",
       "    .dataframe tbody tr th:only-of-type {\n",
       "        vertical-align: middle;\n",
       "    }\n",
       "\n",
       "    .dataframe tbody tr th {\n",
       "        vertical-align: top;\n",
       "    }\n",
       "\n",
       "    .dataframe thead th {\n",
       "        text-align: right;\n",
       "    }\n",
       "</style>\n",
       "<table border=\"1\" class=\"dataframe\">\n",
       "  <thead>\n",
       "    <tr style=\"text-align: right;\">\n",
       "      <th></th>\n",
       "      <th>name</th>\n",
       "      <th>year</th>\n",
       "      <th>selling_price</th>\n",
       "      <th>km_driven</th>\n",
       "      <th>fuel</th>\n",
       "      <th>seller_type</th>\n",
       "      <th>transmission</th>\n",
       "      <th>owner</th>\n",
       "      <th>mileage</th>\n",
       "      <th>engine</th>\n",
       "      <th>max_power</th>\n",
       "      <th>torque</th>\n",
       "      <th>seats</th>\n",
       "    </tr>\n",
       "  </thead>\n",
       "  <tbody>\n",
       "    <tr>\n",
       "      <th>13</th>\n",
       "      <td>Maruti Swift 1.3 VXi</td>\n",
       "      <td>2007</td>\n",
       "      <td>200000</td>\n",
       "      <td>80000</td>\n",
       "      <td>Petrol</td>\n",
       "      <td>Individual</td>\n",
       "      <td>Manual</td>\n",
       "      <td>Second Owner</td>\n",
       "      <td>NaN</td>\n",
       "      <td>NaN</td>\n",
       "      <td>NaN</td>\n",
       "      <td>NaN</td>\n",
       "      <td>NaN</td>\n",
       "    </tr>\n",
       "    <tr>\n",
       "      <th>31</th>\n",
       "      <td>Fiat Palio 1.2 ELX</td>\n",
       "      <td>2003</td>\n",
       "      <td>70000</td>\n",
       "      <td>50000</td>\n",
       "      <td>Petrol</td>\n",
       "      <td>Individual</td>\n",
       "      <td>Manual</td>\n",
       "      <td>Second Owner</td>\n",
       "      <td>NaN</td>\n",
       "      <td>NaN</td>\n",
       "      <td>NaN</td>\n",
       "      <td>NaN</td>\n",
       "      <td>NaN</td>\n",
       "    </tr>\n",
       "    <tr>\n",
       "      <th>78</th>\n",
       "      <td>Tata Indica DLS</td>\n",
       "      <td>2003</td>\n",
       "      <td>50000</td>\n",
       "      <td>70000</td>\n",
       "      <td>Diesel</td>\n",
       "      <td>Individual</td>\n",
       "      <td>Manual</td>\n",
       "      <td>First Owner</td>\n",
       "      <td>NaN</td>\n",
       "      <td>NaN</td>\n",
       "      <td>NaN</td>\n",
       "      <td>NaN</td>\n",
       "      <td>NaN</td>\n",
       "    </tr>\n",
       "    <tr>\n",
       "      <th>87</th>\n",
       "      <td>Maruti Swift VDI BSIV W ABS</td>\n",
       "      <td>2015</td>\n",
       "      <td>475000</td>\n",
       "      <td>78000</td>\n",
       "      <td>Diesel</td>\n",
       "      <td>Dealer</td>\n",
       "      <td>Manual</td>\n",
       "      <td>First Owner</td>\n",
       "      <td>NaN</td>\n",
       "      <td>NaN</td>\n",
       "      <td>NaN</td>\n",
       "      <td>NaN</td>\n",
       "      <td>NaN</td>\n",
       "    </tr>\n",
       "    <tr>\n",
       "      <th>119</th>\n",
       "      <td>Maruti Swift VDI BSIV</td>\n",
       "      <td>2010</td>\n",
       "      <td>300000</td>\n",
       "      <td>120000</td>\n",
       "      <td>Diesel</td>\n",
       "      <td>Individual</td>\n",
       "      <td>Manual</td>\n",
       "      <td>Second Owner</td>\n",
       "      <td>NaN</td>\n",
       "      <td>NaN</td>\n",
       "      <td>NaN</td>\n",
       "      <td>NaN</td>\n",
       "      <td>NaN</td>\n",
       "    </tr>\n",
       "    <tr>\n",
       "      <th>138</th>\n",
       "      <td>BMW X1 sDrive 20D xLine</td>\n",
       "      <td>2017</td>\n",
       "      <td>2150000</td>\n",
       "      <td>27000</td>\n",
       "      <td>Diesel</td>\n",
       "      <td>Dealer</td>\n",
       "      <td>Automatic</td>\n",
       "      <td>First Owner</td>\n",
       "      <td>NaN</td>\n",
       "      <td>NaN</td>\n",
       "      <td>NaN</td>\n",
       "      <td>NaN</td>\n",
       "      <td>NaN</td>\n",
       "    </tr>\n",
       "    <tr>\n",
       "      <th>200</th>\n",
       "      <td>Toyota Etios GD</td>\n",
       "      <td>2012</td>\n",
       "      <td>235000</td>\n",
       "      <td>120000</td>\n",
       "      <td>Diesel</td>\n",
       "      <td>Individual</td>\n",
       "      <td>Manual</td>\n",
       "      <td>First Owner</td>\n",
       "      <td>NaN</td>\n",
       "      <td>NaN</td>\n",
       "      <td>NaN</td>\n",
       "      <td>NaN</td>\n",
       "      <td>NaN</td>\n",
       "    </tr>\n",
       "    <tr>\n",
       "      <th>206</th>\n",
       "      <td>Maruti Omni E 8 Str STD</td>\n",
       "      <td>2003</td>\n",
       "      <td>40000</td>\n",
       "      <td>90000</td>\n",
       "      <td>Petrol</td>\n",
       "      <td>Individual</td>\n",
       "      <td>Manual</td>\n",
       "      <td>Second Owner</td>\n",
       "      <td>NaN</td>\n",
       "      <td>NaN</td>\n",
       "      <td>NaN</td>\n",
       "      <td>NaN</td>\n",
       "      <td>NaN</td>\n",
       "    </tr>\n",
       "    <tr>\n",
       "      <th>228</th>\n",
       "      <td>Maruti Swift 1.3 VXi</td>\n",
       "      <td>2008</td>\n",
       "      <td>130000</td>\n",
       "      <td>120000</td>\n",
       "      <td>Petrol</td>\n",
       "      <td>Individual</td>\n",
       "      <td>Manual</td>\n",
       "      <td>Second Owner</td>\n",
       "      <td>NaN</td>\n",
       "      <td>NaN</td>\n",
       "      <td>NaN</td>\n",
       "      <td>NaN</td>\n",
       "      <td>NaN</td>\n",
       "    </tr>\n",
       "    <tr>\n",
       "      <th>252</th>\n",
       "      <td>Tata Indica DLS</td>\n",
       "      <td>2005</td>\n",
       "      <td>75000</td>\n",
       "      <td>110000</td>\n",
       "      <td>Diesel</td>\n",
       "      <td>Individual</td>\n",
       "      <td>Manual</td>\n",
       "      <td>Second Owner</td>\n",
       "      <td>NaN</td>\n",
       "      <td>NaN</td>\n",
       "      <td>NaN</td>\n",
       "      <td>NaN</td>\n",
       "      <td>NaN</td>\n",
       "    </tr>\n",
       "  </tbody>\n",
       "</table>\n",
       "</div>"
      ],
      "text/plain": [
       "                            name  year  selling_price  km_driven    fuel  \\\n",
       "13          Maruti Swift 1.3 VXi  2007         200000      80000  Petrol   \n",
       "31            Fiat Palio 1.2 ELX  2003          70000      50000  Petrol   \n",
       "78               Tata Indica DLS  2003          50000      70000  Diesel   \n",
       "87   Maruti Swift VDI BSIV W ABS  2015         475000      78000  Diesel   \n",
       "119        Maruti Swift VDI BSIV  2010         300000     120000  Diesel   \n",
       "138      BMW X1 sDrive 20D xLine  2017        2150000      27000  Diesel   \n",
       "200              Toyota Etios GD  2012         235000     120000  Diesel   \n",
       "206      Maruti Omni E 8 Str STD  2003          40000      90000  Petrol   \n",
       "228         Maruti Swift 1.3 VXi  2008         130000     120000  Petrol   \n",
       "252              Tata Indica DLS  2005          75000     110000  Diesel   \n",
       "\n",
       "    seller_type transmission         owner mileage engine max_power torque  \\\n",
       "13   Individual       Manual  Second Owner     NaN    NaN       NaN    NaN   \n",
       "31   Individual       Manual  Second Owner     NaN    NaN       NaN    NaN   \n",
       "78   Individual       Manual   First Owner     NaN    NaN       NaN    NaN   \n",
       "87       Dealer       Manual   First Owner     NaN    NaN       NaN    NaN   \n",
       "119  Individual       Manual  Second Owner     NaN    NaN       NaN    NaN   \n",
       "138      Dealer    Automatic   First Owner     NaN    NaN       NaN    NaN   \n",
       "200  Individual       Manual   First Owner     NaN    NaN       NaN    NaN   \n",
       "206  Individual       Manual  Second Owner     NaN    NaN       NaN    NaN   \n",
       "228  Individual       Manual  Second Owner     NaN    NaN       NaN    NaN   \n",
       "252  Individual       Manual  Second Owner     NaN    NaN       NaN    NaN   \n",
       "\n",
       "     seats  \n",
       "13     NaN  \n",
       "31     NaN  \n",
       "78     NaN  \n",
       "87     NaN  \n",
       "119    NaN  \n",
       "138    NaN  \n",
       "200    NaN  \n",
       "206    NaN  \n",
       "228    NaN  \n",
       "252    NaN  "
      ]
     },
     "execution_count": 5,
     "metadata": {},
     "output_type": "execute_result"
    }
   ],
   "source": [
    "df[df.isnull().any(axis=1)].head(10)"
   ]
  },
  {
   "cell_type": "markdown",
   "id": "d4fe6bfa",
   "metadata": {},
   "source": [
    "It is worth noting that where there are missing values, all of the five last columns (mileage - seats) are missing data. These will be dealt with in the data cleaning section below."
   ]
  },
  {
   "cell_type": "code",
   "execution_count": 6,
   "id": "0885bbc1",
   "metadata": {
    "scrolled": false
   },
   "outputs": [
    {
     "data": {
      "text/html": [
       "<div>\n",
       "<style scoped>\n",
       "    .dataframe tbody tr th:only-of-type {\n",
       "        vertical-align: middle;\n",
       "    }\n",
       "\n",
       "    .dataframe tbody tr th {\n",
       "        vertical-align: top;\n",
       "    }\n",
       "\n",
       "    .dataframe thead th {\n",
       "        text-align: right;\n",
       "    }\n",
       "</style>\n",
       "<table border=\"1\" class=\"dataframe\">\n",
       "  <thead>\n",
       "    <tr style=\"text-align: right;\">\n",
       "      <th></th>\n",
       "      <th>year</th>\n",
       "      <th>selling_price</th>\n",
       "      <th>km_driven</th>\n",
       "      <th>seats</th>\n",
       "    </tr>\n",
       "  </thead>\n",
       "  <tbody>\n",
       "    <tr>\n",
       "      <th>count</th>\n",
       "      <td>8128.000000</td>\n",
       "      <td>8.128000e+03</td>\n",
       "      <td>8.128000e+03</td>\n",
       "      <td>7907.000000</td>\n",
       "    </tr>\n",
       "    <tr>\n",
       "      <th>mean</th>\n",
       "      <td>2013.804011</td>\n",
       "      <td>6.382718e+05</td>\n",
       "      <td>6.981951e+04</td>\n",
       "      <td>5.416719</td>\n",
       "    </tr>\n",
       "    <tr>\n",
       "      <th>std</th>\n",
       "      <td>4.044249</td>\n",
       "      <td>8.062534e+05</td>\n",
       "      <td>5.655055e+04</td>\n",
       "      <td>0.959588</td>\n",
       "    </tr>\n",
       "    <tr>\n",
       "      <th>min</th>\n",
       "      <td>1983.000000</td>\n",
       "      <td>2.999900e+04</td>\n",
       "      <td>1.000000e+00</td>\n",
       "      <td>2.000000</td>\n",
       "    </tr>\n",
       "    <tr>\n",
       "      <th>25%</th>\n",
       "      <td>2011.000000</td>\n",
       "      <td>2.549990e+05</td>\n",
       "      <td>3.500000e+04</td>\n",
       "      <td>5.000000</td>\n",
       "    </tr>\n",
       "    <tr>\n",
       "      <th>50%</th>\n",
       "      <td>2015.000000</td>\n",
       "      <td>4.500000e+05</td>\n",
       "      <td>6.000000e+04</td>\n",
       "      <td>5.000000</td>\n",
       "    </tr>\n",
       "    <tr>\n",
       "      <th>75%</th>\n",
       "      <td>2017.000000</td>\n",
       "      <td>6.750000e+05</td>\n",
       "      <td>9.800000e+04</td>\n",
       "      <td>5.000000</td>\n",
       "    </tr>\n",
       "    <tr>\n",
       "      <th>max</th>\n",
       "      <td>2020.000000</td>\n",
       "      <td>1.000000e+07</td>\n",
       "      <td>2.360457e+06</td>\n",
       "      <td>14.000000</td>\n",
       "    </tr>\n",
       "  </tbody>\n",
       "</table>\n",
       "</div>"
      ],
      "text/plain": [
       "              year  selling_price     km_driven        seats\n",
       "count  8128.000000   8.128000e+03  8.128000e+03  7907.000000\n",
       "mean   2013.804011   6.382718e+05  6.981951e+04     5.416719\n",
       "std       4.044249   8.062534e+05  5.655055e+04     0.959588\n",
       "min    1983.000000   2.999900e+04  1.000000e+00     2.000000\n",
       "25%    2011.000000   2.549990e+05  3.500000e+04     5.000000\n",
       "50%    2015.000000   4.500000e+05  6.000000e+04     5.000000\n",
       "75%    2017.000000   6.750000e+05  9.800000e+04     5.000000\n",
       "max    2020.000000   1.000000e+07  2.360457e+06    14.000000"
      ]
     },
     "execution_count": 6,
     "metadata": {},
     "output_type": "execute_result"
    }
   ],
   "source": [
    "df.describe()"
   ]
  },
  {
   "cell_type": "markdown",
   "id": "f1be295e",
   "metadata": {},
   "source": [
    "## 2. Data Cleaning"
   ]
  },
  {
   "cell_type": "markdown",
   "id": "cb7ee7f1",
   "metadata": {},
   "source": [
    "#### Dropping rows with null values"
   ]
  },
  {
   "cell_type": "markdown",
   "id": "9247bc27",
   "metadata": {},
   "source": [
    "As identified in Section 1, instances with null values largely have missing data across all of the last last five columns. As it would be inaccurate to impute all of these missing values and null entries make up only a small percentage of the dataset, these instances will be dropped."
   ]
  },
  {
   "cell_type": "code",
   "execution_count": 7,
   "id": "2740c3ad",
   "metadata": {
    "scrolled": false
   },
   "outputs": [
    {
     "name": "stdout",
     "output_type": "stream",
     "text": [
      "<class 'pandas.core.frame.DataFrame'>\n",
      "Int64Index: 7906 entries, 0 to 8127\n",
      "Data columns (total 13 columns):\n",
      " #   Column         Non-Null Count  Dtype  \n",
      "---  ------         --------------  -----  \n",
      " 0   name           7906 non-null   object \n",
      " 1   year           7906 non-null   int64  \n",
      " 2   selling_price  7906 non-null   int64  \n",
      " 3   km_driven      7906 non-null   int64  \n",
      " 4   fuel           7906 non-null   object \n",
      " 5   seller_type    7906 non-null   object \n",
      " 6   transmission   7906 non-null   object \n",
      " 7   owner          7906 non-null   object \n",
      " 8   mileage        7906 non-null   object \n",
      " 9   engine         7906 non-null   object \n",
      " 10  max_power      7906 non-null   object \n",
      " 11  torque         7906 non-null   object \n",
      " 12  seats          7906 non-null   float64\n",
      "dtypes: float64(1), int64(3), object(9)\n",
      "memory usage: 864.7+ KB\n"
     ]
    }
   ],
   "source": [
    "df.dropna(inplace=True)\n",
    "df.info()"
   ]
  },
  {
   "cell_type": "markdown",
   "id": "c360ffcb",
   "metadata": {},
   "source": [
    "#### Separating the manufacturer from the model in the car name"
   ]
  },
  {
   "cell_type": "markdown",
   "id": "0d8afa98",
   "metadata": {},
   "source": [
    "The name column current contains the car manufacturer and model together. These will be split as having them as separate features will be more useful in this analysis."
   ]
  },
  {
   "cell_type": "code",
   "execution_count": 8,
   "id": "bece4366",
   "metadata": {
    "scrolled": true
   },
   "outputs": [
    {
     "data": {
      "text/html": [
       "<div>\n",
       "<style scoped>\n",
       "    .dataframe tbody tr th:only-of-type {\n",
       "        vertical-align: middle;\n",
       "    }\n",
       "\n",
       "    .dataframe tbody tr th {\n",
       "        vertical-align: top;\n",
       "    }\n",
       "\n",
       "    .dataframe thead th {\n",
       "        text-align: right;\n",
       "    }\n",
       "</style>\n",
       "<table border=\"1\" class=\"dataframe\">\n",
       "  <thead>\n",
       "    <tr style=\"text-align: right;\">\n",
       "      <th></th>\n",
       "      <th>manufacturer</th>\n",
       "      <th>model</th>\n",
       "      <th>year</th>\n",
       "      <th>km_driven</th>\n",
       "      <th>fuel</th>\n",
       "      <th>seller_type</th>\n",
       "      <th>transmission</th>\n",
       "      <th>owner</th>\n",
       "      <th>mileage</th>\n",
       "      <th>engine</th>\n",
       "      <th>max_power</th>\n",
       "      <th>torque</th>\n",
       "      <th>seats</th>\n",
       "      <th>selling_price</th>\n",
       "    </tr>\n",
       "  </thead>\n",
       "  <tbody>\n",
       "    <tr>\n",
       "      <th>0</th>\n",
       "      <td>Maruti</td>\n",
       "      <td>Swift Dzire VDI</td>\n",
       "      <td>2014</td>\n",
       "      <td>145500</td>\n",
       "      <td>Diesel</td>\n",
       "      <td>Individual</td>\n",
       "      <td>Manual</td>\n",
       "      <td>First Owner</td>\n",
       "      <td>23.4 kmpl</td>\n",
       "      <td>1248 CC</td>\n",
       "      <td>74 bhp</td>\n",
       "      <td>190Nm@ 2000rpm</td>\n",
       "      <td>5.0</td>\n",
       "      <td>450000</td>\n",
       "    </tr>\n",
       "    <tr>\n",
       "      <th>1</th>\n",
       "      <td>Skoda</td>\n",
       "      <td>Rapid 1.5 TDI Ambition</td>\n",
       "      <td>2014</td>\n",
       "      <td>120000</td>\n",
       "      <td>Diesel</td>\n",
       "      <td>Individual</td>\n",
       "      <td>Manual</td>\n",
       "      <td>Second Owner</td>\n",
       "      <td>21.14 kmpl</td>\n",
       "      <td>1498 CC</td>\n",
       "      <td>103.52 bhp</td>\n",
       "      <td>250Nm@ 1500-2500rpm</td>\n",
       "      <td>5.0</td>\n",
       "      <td>370000</td>\n",
       "    </tr>\n",
       "    <tr>\n",
       "      <th>2</th>\n",
       "      <td>Honda</td>\n",
       "      <td>City 2017-2020 EXi</td>\n",
       "      <td>2006</td>\n",
       "      <td>140000</td>\n",
       "      <td>Petrol</td>\n",
       "      <td>Individual</td>\n",
       "      <td>Manual</td>\n",
       "      <td>Third Owner</td>\n",
       "      <td>17.7 kmpl</td>\n",
       "      <td>1497 CC</td>\n",
       "      <td>78 bhp</td>\n",
       "      <td>12.7@ 2,700(kgm@ rpm)</td>\n",
       "      <td>5.0</td>\n",
       "      <td>158000</td>\n",
       "    </tr>\n",
       "    <tr>\n",
       "      <th>3</th>\n",
       "      <td>Hyundai</td>\n",
       "      <td>i20 Sportz Diesel</td>\n",
       "      <td>2010</td>\n",
       "      <td>127000</td>\n",
       "      <td>Diesel</td>\n",
       "      <td>Individual</td>\n",
       "      <td>Manual</td>\n",
       "      <td>First Owner</td>\n",
       "      <td>23.0 kmpl</td>\n",
       "      <td>1396 CC</td>\n",
       "      <td>90 bhp</td>\n",
       "      <td>22.4 kgm at 1750-2750rpm</td>\n",
       "      <td>5.0</td>\n",
       "      <td>225000</td>\n",
       "    </tr>\n",
       "    <tr>\n",
       "      <th>4</th>\n",
       "      <td>Maruti</td>\n",
       "      <td>Swift VXI BSIII</td>\n",
       "      <td>2007</td>\n",
       "      <td>120000</td>\n",
       "      <td>Petrol</td>\n",
       "      <td>Individual</td>\n",
       "      <td>Manual</td>\n",
       "      <td>First Owner</td>\n",
       "      <td>16.1 kmpl</td>\n",
       "      <td>1298 CC</td>\n",
       "      <td>88.2 bhp</td>\n",
       "      <td>11.5@ 4,500(kgm@ rpm)</td>\n",
       "      <td>5.0</td>\n",
       "      <td>130000</td>\n",
       "    </tr>\n",
       "  </tbody>\n",
       "</table>\n",
       "</div>"
      ],
      "text/plain": [
       "  manufacturer                   model  year  km_driven    fuel seller_type  \\\n",
       "0       Maruti         Swift Dzire VDI  2014     145500  Diesel  Individual   \n",
       "1        Skoda  Rapid 1.5 TDI Ambition  2014     120000  Diesel  Individual   \n",
       "2        Honda      City 2017-2020 EXi  2006     140000  Petrol  Individual   \n",
       "3      Hyundai       i20 Sportz Diesel  2010     127000  Diesel  Individual   \n",
       "4       Maruti         Swift VXI BSIII  2007     120000  Petrol  Individual   \n",
       "\n",
       "  transmission         owner     mileage   engine   max_power  \\\n",
       "0       Manual   First Owner   23.4 kmpl  1248 CC      74 bhp   \n",
       "1       Manual  Second Owner  21.14 kmpl  1498 CC  103.52 bhp   \n",
       "2       Manual   Third Owner   17.7 kmpl  1497 CC      78 bhp   \n",
       "3       Manual   First Owner   23.0 kmpl  1396 CC      90 bhp   \n",
       "4       Manual   First Owner   16.1 kmpl  1298 CC    88.2 bhp   \n",
       "\n",
       "                     torque  seats  selling_price  \n",
       "0            190Nm@ 2000rpm    5.0         450000  \n",
       "1       250Nm@ 1500-2500rpm    5.0         370000  \n",
       "2     12.7@ 2,700(kgm@ rpm)    5.0         158000  \n",
       "3  22.4 kgm at 1750-2750rpm    5.0         225000  \n",
       "4     11.5@ 4,500(kgm@ rpm)    5.0         130000  "
      ]
     },
     "execution_count": 8,
     "metadata": {},
     "output_type": "execute_result"
    }
   ],
   "source": [
    "df['manufacturer'] = df['name'].apply(lambda x: x.split(' ')[0])\n",
    "df['model'] = df['name'].apply(lambda x: x.split(' ', maxsplit=1)[1])\n",
    "\n",
    "# Placing manufacturer and model columns at the front, selling_price at the end and removing name column\n",
    "df = df[['manufacturer', 'model'] + [col for col in df if col not in ['manufacturer', 'model', 'selling_price']] + ['selling_price']]\n",
    "df.drop(columns=['name'], inplace=True)\n",
    "\n",
    "df.head()"
   ]
  },
  {
   "cell_type": "markdown",
   "id": "b03f8a80",
   "metadata": {},
   "source": [
    "#### Converting year to age"
   ]
  },
  {
   "cell_type": "markdown",
   "id": "5f93e197",
   "metadata": {},
   "source": [
    "The car purchase year will be subtracted from 2020 (year when the data was scraped) to calculate the car age which will be a more meaningful number for data visualisation."
   ]
  },
  {
   "cell_type": "code",
   "execution_count": 9,
   "id": "b50927c2",
   "metadata": {
    "scrolled": false
   },
   "outputs": [
    {
     "data": {
      "text/html": [
       "<div>\n",
       "<style scoped>\n",
       "    .dataframe tbody tr th:only-of-type {\n",
       "        vertical-align: middle;\n",
       "    }\n",
       "\n",
       "    .dataframe tbody tr th {\n",
       "        vertical-align: top;\n",
       "    }\n",
       "\n",
       "    .dataframe thead th {\n",
       "        text-align: right;\n",
       "    }\n",
       "</style>\n",
       "<table border=\"1\" class=\"dataframe\">\n",
       "  <thead>\n",
       "    <tr style=\"text-align: right;\">\n",
       "      <th></th>\n",
       "      <th>manufacturer</th>\n",
       "      <th>model</th>\n",
       "      <th>age</th>\n",
       "      <th>km_driven</th>\n",
       "      <th>fuel</th>\n",
       "      <th>seller_type</th>\n",
       "      <th>transmission</th>\n",
       "      <th>owner</th>\n",
       "      <th>mileage</th>\n",
       "      <th>engine</th>\n",
       "      <th>max_power</th>\n",
       "      <th>torque</th>\n",
       "      <th>seats</th>\n",
       "      <th>selling_price</th>\n",
       "    </tr>\n",
       "  </thead>\n",
       "  <tbody>\n",
       "    <tr>\n",
       "      <th>0</th>\n",
       "      <td>Maruti</td>\n",
       "      <td>Swift Dzire VDI</td>\n",
       "      <td>6</td>\n",
       "      <td>145500</td>\n",
       "      <td>Diesel</td>\n",
       "      <td>Individual</td>\n",
       "      <td>Manual</td>\n",
       "      <td>First Owner</td>\n",
       "      <td>23.4 kmpl</td>\n",
       "      <td>1248 CC</td>\n",
       "      <td>74 bhp</td>\n",
       "      <td>190Nm@ 2000rpm</td>\n",
       "      <td>5.0</td>\n",
       "      <td>450000</td>\n",
       "    </tr>\n",
       "    <tr>\n",
       "      <th>1</th>\n",
       "      <td>Skoda</td>\n",
       "      <td>Rapid 1.5 TDI Ambition</td>\n",
       "      <td>6</td>\n",
       "      <td>120000</td>\n",
       "      <td>Diesel</td>\n",
       "      <td>Individual</td>\n",
       "      <td>Manual</td>\n",
       "      <td>Second Owner</td>\n",
       "      <td>21.14 kmpl</td>\n",
       "      <td>1498 CC</td>\n",
       "      <td>103.52 bhp</td>\n",
       "      <td>250Nm@ 1500-2500rpm</td>\n",
       "      <td>5.0</td>\n",
       "      <td>370000</td>\n",
       "    </tr>\n",
       "    <tr>\n",
       "      <th>2</th>\n",
       "      <td>Honda</td>\n",
       "      <td>City 2017-2020 EXi</td>\n",
       "      <td>14</td>\n",
       "      <td>140000</td>\n",
       "      <td>Petrol</td>\n",
       "      <td>Individual</td>\n",
       "      <td>Manual</td>\n",
       "      <td>Third Owner</td>\n",
       "      <td>17.7 kmpl</td>\n",
       "      <td>1497 CC</td>\n",
       "      <td>78 bhp</td>\n",
       "      <td>12.7@ 2,700(kgm@ rpm)</td>\n",
       "      <td>5.0</td>\n",
       "      <td>158000</td>\n",
       "    </tr>\n",
       "    <tr>\n",
       "      <th>3</th>\n",
       "      <td>Hyundai</td>\n",
       "      <td>i20 Sportz Diesel</td>\n",
       "      <td>10</td>\n",
       "      <td>127000</td>\n",
       "      <td>Diesel</td>\n",
       "      <td>Individual</td>\n",
       "      <td>Manual</td>\n",
       "      <td>First Owner</td>\n",
       "      <td>23.0 kmpl</td>\n",
       "      <td>1396 CC</td>\n",
       "      <td>90 bhp</td>\n",
       "      <td>22.4 kgm at 1750-2750rpm</td>\n",
       "      <td>5.0</td>\n",
       "      <td>225000</td>\n",
       "    </tr>\n",
       "    <tr>\n",
       "      <th>4</th>\n",
       "      <td>Maruti</td>\n",
       "      <td>Swift VXI BSIII</td>\n",
       "      <td>13</td>\n",
       "      <td>120000</td>\n",
       "      <td>Petrol</td>\n",
       "      <td>Individual</td>\n",
       "      <td>Manual</td>\n",
       "      <td>First Owner</td>\n",
       "      <td>16.1 kmpl</td>\n",
       "      <td>1298 CC</td>\n",
       "      <td>88.2 bhp</td>\n",
       "      <td>11.5@ 4,500(kgm@ rpm)</td>\n",
       "      <td>5.0</td>\n",
       "      <td>130000</td>\n",
       "    </tr>\n",
       "  </tbody>\n",
       "</table>\n",
       "</div>"
      ],
      "text/plain": [
       "  manufacturer                   model  age  km_driven    fuel seller_type  \\\n",
       "0       Maruti         Swift Dzire VDI    6     145500  Diesel  Individual   \n",
       "1        Skoda  Rapid 1.5 TDI Ambition    6     120000  Diesel  Individual   \n",
       "2        Honda      City 2017-2020 EXi   14     140000  Petrol  Individual   \n",
       "3      Hyundai       i20 Sportz Diesel   10     127000  Diesel  Individual   \n",
       "4       Maruti         Swift VXI BSIII   13     120000  Petrol  Individual   \n",
       "\n",
       "  transmission         owner     mileage   engine   max_power  \\\n",
       "0       Manual   First Owner   23.4 kmpl  1248 CC      74 bhp   \n",
       "1       Manual  Second Owner  21.14 kmpl  1498 CC  103.52 bhp   \n",
       "2       Manual   Third Owner   17.7 kmpl  1497 CC      78 bhp   \n",
       "3       Manual   First Owner   23.0 kmpl  1396 CC      90 bhp   \n",
       "4       Manual   First Owner   16.1 kmpl  1298 CC    88.2 bhp   \n",
       "\n",
       "                     torque  seats  selling_price  \n",
       "0            190Nm@ 2000rpm    5.0         450000  \n",
       "1       250Nm@ 1500-2500rpm    5.0         370000  \n",
       "2     12.7@ 2,700(kgm@ rpm)    5.0         158000  \n",
       "3  22.4 kgm at 1750-2750rpm    5.0         225000  \n",
       "4     11.5@ 4,500(kgm@ rpm)    5.0         130000  "
      ]
     },
     "execution_count": 9,
     "metadata": {},
     "output_type": "execute_result"
    }
   ],
   "source": [
    "df['age'] = 2020 - df['year']\n",
    "\n",
    "# Placing age column in index 2 and removing year column\n",
    "df = df[['manufacturer', 'model', 'age'] + [col for col in df if col not in ['manufacturer', 'model', 'age', 'selling_price']] + ['selling_price']]\n",
    "df.drop(columns=['year'], inplace=True)\n",
    "\n",
    "df.head()"
   ]
  },
  {
   "cell_type": "markdown",
   "id": "8d7ce5bb",
   "metadata": {},
   "source": [
    "#### Mileage units\n",
    "The mileage column contains values with mostly kmpl (kilometres per litre) as units but the cars with CNG and LPG fuel types have mileage listed with units km/kg. However, attempting to convert values from km/kg to km/l (by multiplying by the fuel density in kg/m3 to get km/m3 then dividing by 1000 to get km/l) results in extremely unrealistic values.\n",
    "\n",
    "It is possible that km/l figures were mistakenly reported as km/kg for CNG and LPG fuel types. This is the assumption taken in this study due to the similarity in the km/l and km/kg values.\n",
    "\n",
    "Some of the instances have a mileage of '0.0 kmpl' which will be treated as null and dropped from the dataset.\n",
    "\n"
   ]
  },
  {
   "cell_type": "code",
   "execution_count": 10,
   "id": "34adf44a",
   "metadata": {
    "scrolled": false
   },
   "outputs": [],
   "source": [
    "filter = (df['mileage'] == '0.0 kmpl')\n",
    "df.drop(index=df[filter].index, inplace=True)"
   ]
  },
  {
   "cell_type": "markdown",
   "id": "a6cd90cb",
   "metadata": {},
   "source": [
    "#### Removing units from the mileage, engine and max_power columns"
   ]
  },
  {
   "cell_type": "code",
   "execution_count": 11,
   "id": "5e1ec982",
   "metadata": {
    "scrolled": false
   },
   "outputs": [
    {
     "data": {
      "text/html": [
       "<div>\n",
       "<style scoped>\n",
       "    .dataframe tbody tr th:only-of-type {\n",
       "        vertical-align: middle;\n",
       "    }\n",
       "\n",
       "    .dataframe tbody tr th {\n",
       "        vertical-align: top;\n",
       "    }\n",
       "\n",
       "    .dataframe thead th {\n",
       "        text-align: right;\n",
       "    }\n",
       "</style>\n",
       "<table border=\"1\" class=\"dataframe\">\n",
       "  <thead>\n",
       "    <tr style=\"text-align: right;\">\n",
       "      <th></th>\n",
       "      <th>manufacturer</th>\n",
       "      <th>model</th>\n",
       "      <th>age</th>\n",
       "      <th>km_driven</th>\n",
       "      <th>fuel</th>\n",
       "      <th>seller_type</th>\n",
       "      <th>transmission</th>\n",
       "      <th>owner</th>\n",
       "      <th>mileage</th>\n",
       "      <th>engine</th>\n",
       "      <th>max_power</th>\n",
       "      <th>torque</th>\n",
       "      <th>seats</th>\n",
       "      <th>selling_price</th>\n",
       "    </tr>\n",
       "  </thead>\n",
       "  <tbody>\n",
       "    <tr>\n",
       "      <th>0</th>\n",
       "      <td>Maruti</td>\n",
       "      <td>Swift Dzire VDI</td>\n",
       "      <td>6</td>\n",
       "      <td>145500</td>\n",
       "      <td>Diesel</td>\n",
       "      <td>Individual</td>\n",
       "      <td>Manual</td>\n",
       "      <td>First Owner</td>\n",
       "      <td>23.40</td>\n",
       "      <td>1248.0</td>\n",
       "      <td>74.00</td>\n",
       "      <td>190Nm@ 2000rpm</td>\n",
       "      <td>5</td>\n",
       "      <td>450000</td>\n",
       "    </tr>\n",
       "    <tr>\n",
       "      <th>1</th>\n",
       "      <td>Skoda</td>\n",
       "      <td>Rapid 1.5 TDI Ambition</td>\n",
       "      <td>6</td>\n",
       "      <td>120000</td>\n",
       "      <td>Diesel</td>\n",
       "      <td>Individual</td>\n",
       "      <td>Manual</td>\n",
       "      <td>Second Owner</td>\n",
       "      <td>21.14</td>\n",
       "      <td>1498.0</td>\n",
       "      <td>103.52</td>\n",
       "      <td>250Nm@ 1500-2500rpm</td>\n",
       "      <td>5</td>\n",
       "      <td>370000</td>\n",
       "    </tr>\n",
       "    <tr>\n",
       "      <th>2</th>\n",
       "      <td>Honda</td>\n",
       "      <td>City 2017-2020 EXi</td>\n",
       "      <td>14</td>\n",
       "      <td>140000</td>\n",
       "      <td>Petrol</td>\n",
       "      <td>Individual</td>\n",
       "      <td>Manual</td>\n",
       "      <td>Third Owner</td>\n",
       "      <td>17.70</td>\n",
       "      <td>1497.0</td>\n",
       "      <td>78.00</td>\n",
       "      <td>12.7@ 2,700(kgm@ rpm)</td>\n",
       "      <td>5</td>\n",
       "      <td>158000</td>\n",
       "    </tr>\n",
       "    <tr>\n",
       "      <th>3</th>\n",
       "      <td>Hyundai</td>\n",
       "      <td>i20 Sportz Diesel</td>\n",
       "      <td>10</td>\n",
       "      <td>127000</td>\n",
       "      <td>Diesel</td>\n",
       "      <td>Individual</td>\n",
       "      <td>Manual</td>\n",
       "      <td>First Owner</td>\n",
       "      <td>23.00</td>\n",
       "      <td>1396.0</td>\n",
       "      <td>90.00</td>\n",
       "      <td>22.4 kgm at 1750-2750rpm</td>\n",
       "      <td>5</td>\n",
       "      <td>225000</td>\n",
       "    </tr>\n",
       "    <tr>\n",
       "      <th>4</th>\n",
       "      <td>Maruti</td>\n",
       "      <td>Swift VXI BSIII</td>\n",
       "      <td>13</td>\n",
       "      <td>120000</td>\n",
       "      <td>Petrol</td>\n",
       "      <td>Individual</td>\n",
       "      <td>Manual</td>\n",
       "      <td>First Owner</td>\n",
       "      <td>16.10</td>\n",
       "      <td>1298.0</td>\n",
       "      <td>88.20</td>\n",
       "      <td>11.5@ 4,500(kgm@ rpm)</td>\n",
       "      <td>5</td>\n",
       "      <td>130000</td>\n",
       "    </tr>\n",
       "  </tbody>\n",
       "</table>\n",
       "</div>"
      ],
      "text/plain": [
       "  manufacturer                   model  age  km_driven    fuel seller_type  \\\n",
       "0       Maruti         Swift Dzire VDI    6     145500  Diesel  Individual   \n",
       "1        Skoda  Rapid 1.5 TDI Ambition    6     120000  Diesel  Individual   \n",
       "2        Honda      City 2017-2020 EXi   14     140000  Petrol  Individual   \n",
       "3      Hyundai       i20 Sportz Diesel   10     127000  Diesel  Individual   \n",
       "4       Maruti         Swift VXI BSIII   13     120000  Petrol  Individual   \n",
       "\n",
       "  transmission         owner  mileage  engine  max_power  \\\n",
       "0       Manual   First Owner    23.40  1248.0      74.00   \n",
       "1       Manual  Second Owner    21.14  1498.0     103.52   \n",
       "2       Manual   Third Owner    17.70  1497.0      78.00   \n",
       "3       Manual   First Owner    23.00  1396.0      90.00   \n",
       "4       Manual   First Owner    16.10  1298.0      88.20   \n",
       "\n",
       "                     torque  seats  selling_price  \n",
       "0            190Nm@ 2000rpm      5         450000  \n",
       "1       250Nm@ 1500-2500rpm      5         370000  \n",
       "2     12.7@ 2,700(kgm@ rpm)      5         158000  \n",
       "3  22.4 kgm at 1750-2750rpm      5         225000  \n",
       "4     11.5@ 4,500(kgm@ rpm)      5         130000  "
      ]
     },
     "execution_count": 11,
     "metadata": {},
     "output_type": "execute_result"
    }
   ],
   "source": [
    "df['mileage'] = df['mileage'].apply(lambda x: x.split(' ')[0])\n",
    "df['engine'] = df['engine'].apply(lambda x: x.split(' ')[0])\n",
    "df['max_power'] = df['max_power'].apply(lambda x: x.split(' ')[0])\n",
    "\n",
    "# Converting dtypes from object\n",
    "df[['mileage', 'engine', 'max_power']] = df[['mileage', 'engine', 'max_power']].astype(float)\n",
    "df['seats'] = df['seats'].astype(int)\n",
    "\n",
    "df.head()"
   ]
  },
  {
   "cell_type": "markdown",
   "id": "4838ff3d",
   "metadata": {},
   "source": [
    "#### Dropping torque column\n",
    "As the brake horsepower has already been calculated in the max_power column, the torque column can be dropped since break horsepower is calculated as follows:\n",
    "\n",
    "_BHP = Torque x RPM / 5252_\n",
    "\n",
    "BHP is a more meaningful feature as the torque is measured at different rpms for different cars."
   ]
  },
  {
   "cell_type": "code",
   "execution_count": 12,
   "id": "233db224",
   "metadata": {
    "scrolled": false
   },
   "outputs": [
    {
     "data": {
      "text/html": [
       "<div>\n",
       "<style scoped>\n",
       "    .dataframe tbody tr th:only-of-type {\n",
       "        vertical-align: middle;\n",
       "    }\n",
       "\n",
       "    .dataframe tbody tr th {\n",
       "        vertical-align: top;\n",
       "    }\n",
       "\n",
       "    .dataframe thead th {\n",
       "        text-align: right;\n",
       "    }\n",
       "</style>\n",
       "<table border=\"1\" class=\"dataframe\">\n",
       "  <thead>\n",
       "    <tr style=\"text-align: right;\">\n",
       "      <th></th>\n",
       "      <th>manufacturer</th>\n",
       "      <th>model</th>\n",
       "      <th>age</th>\n",
       "      <th>km_driven</th>\n",
       "      <th>fuel</th>\n",
       "      <th>seller_type</th>\n",
       "      <th>transmission</th>\n",
       "      <th>owner</th>\n",
       "      <th>mileage</th>\n",
       "      <th>engine</th>\n",
       "      <th>max_power</th>\n",
       "      <th>seats</th>\n",
       "      <th>selling_price</th>\n",
       "    </tr>\n",
       "  </thead>\n",
       "  <tbody>\n",
       "    <tr>\n",
       "      <th>0</th>\n",
       "      <td>Maruti</td>\n",
       "      <td>Swift Dzire VDI</td>\n",
       "      <td>6</td>\n",
       "      <td>145500</td>\n",
       "      <td>Diesel</td>\n",
       "      <td>Individual</td>\n",
       "      <td>Manual</td>\n",
       "      <td>First Owner</td>\n",
       "      <td>23.40</td>\n",
       "      <td>1248.0</td>\n",
       "      <td>74.00</td>\n",
       "      <td>5</td>\n",
       "      <td>450000</td>\n",
       "    </tr>\n",
       "    <tr>\n",
       "      <th>1</th>\n",
       "      <td>Skoda</td>\n",
       "      <td>Rapid 1.5 TDI Ambition</td>\n",
       "      <td>6</td>\n",
       "      <td>120000</td>\n",
       "      <td>Diesel</td>\n",
       "      <td>Individual</td>\n",
       "      <td>Manual</td>\n",
       "      <td>Second Owner</td>\n",
       "      <td>21.14</td>\n",
       "      <td>1498.0</td>\n",
       "      <td>103.52</td>\n",
       "      <td>5</td>\n",
       "      <td>370000</td>\n",
       "    </tr>\n",
       "    <tr>\n",
       "      <th>2</th>\n",
       "      <td>Honda</td>\n",
       "      <td>City 2017-2020 EXi</td>\n",
       "      <td>14</td>\n",
       "      <td>140000</td>\n",
       "      <td>Petrol</td>\n",
       "      <td>Individual</td>\n",
       "      <td>Manual</td>\n",
       "      <td>Third Owner</td>\n",
       "      <td>17.70</td>\n",
       "      <td>1497.0</td>\n",
       "      <td>78.00</td>\n",
       "      <td>5</td>\n",
       "      <td>158000</td>\n",
       "    </tr>\n",
       "    <tr>\n",
       "      <th>3</th>\n",
       "      <td>Hyundai</td>\n",
       "      <td>i20 Sportz Diesel</td>\n",
       "      <td>10</td>\n",
       "      <td>127000</td>\n",
       "      <td>Diesel</td>\n",
       "      <td>Individual</td>\n",
       "      <td>Manual</td>\n",
       "      <td>First Owner</td>\n",
       "      <td>23.00</td>\n",
       "      <td>1396.0</td>\n",
       "      <td>90.00</td>\n",
       "      <td>5</td>\n",
       "      <td>225000</td>\n",
       "    </tr>\n",
       "    <tr>\n",
       "      <th>4</th>\n",
       "      <td>Maruti</td>\n",
       "      <td>Swift VXI BSIII</td>\n",
       "      <td>13</td>\n",
       "      <td>120000</td>\n",
       "      <td>Petrol</td>\n",
       "      <td>Individual</td>\n",
       "      <td>Manual</td>\n",
       "      <td>First Owner</td>\n",
       "      <td>16.10</td>\n",
       "      <td>1298.0</td>\n",
       "      <td>88.20</td>\n",
       "      <td>5</td>\n",
       "      <td>130000</td>\n",
       "    </tr>\n",
       "  </tbody>\n",
       "</table>\n",
       "</div>"
      ],
      "text/plain": [
       "  manufacturer                   model  age  km_driven    fuel seller_type  \\\n",
       "0       Maruti         Swift Dzire VDI    6     145500  Diesel  Individual   \n",
       "1        Skoda  Rapid 1.5 TDI Ambition    6     120000  Diesel  Individual   \n",
       "2        Honda      City 2017-2020 EXi   14     140000  Petrol  Individual   \n",
       "3      Hyundai       i20 Sportz Diesel   10     127000  Diesel  Individual   \n",
       "4       Maruti         Swift VXI BSIII   13     120000  Petrol  Individual   \n",
       "\n",
       "  transmission         owner  mileage  engine  max_power  seats  selling_price  \n",
       "0       Manual   First Owner    23.40  1248.0      74.00      5         450000  \n",
       "1       Manual  Second Owner    21.14  1498.0     103.52      5         370000  \n",
       "2       Manual   Third Owner    17.70  1497.0      78.00      5         158000  \n",
       "3       Manual   First Owner    23.00  1396.0      90.00      5         225000  \n",
       "4       Manual   First Owner    16.10  1298.0      88.20      5         130000  "
      ]
     },
     "execution_count": 12,
     "metadata": {},
     "output_type": "execute_result"
    }
   ],
   "source": [
    "df.drop(columns=['torque'], inplace=True)\n",
    "\n",
    "df.head()"
   ]
  },
  {
   "cell_type": "markdown",
   "id": "432a3721",
   "metadata": {},
   "source": [
    "#### Test Drive Car"
   ]
  },
  {
   "cell_type": "markdown",
   "id": "5345a2d6",
   "metadata": {},
   "source": [
    "As there are only a small number of samples which were test drive cars, these will be classified as First Owner since they are relatively new."
   ]
  },
  {
   "cell_type": "code",
   "execution_count": 13,
   "id": "dbb992a9",
   "metadata": {
    "scrolled": false
   },
   "outputs": [
    {
     "data": {
      "text/plain": [
       "First Owner             5205\n",
       "Second Owner            2012\n",
       "Third Owner              508\n",
       "Fourth & Above Owner     159\n",
       "Test Drive Car             5\n",
       "Name: owner, dtype: int64"
      ]
     },
     "execution_count": 13,
     "metadata": {},
     "output_type": "execute_result"
    }
   ],
   "source": [
    "df['owner'].value_counts()"
   ]
  },
  {
   "cell_type": "code",
   "execution_count": 14,
   "id": "6c32ed8e",
   "metadata": {
    "scrolled": false
   },
   "outputs": [
    {
     "data": {
      "text/plain": [
       "4383    1\n",
       "4950    1\n",
       "4951    1\n",
       "4952    1\n",
       "6220    1\n",
       "Name: age, dtype: int64"
      ]
     },
     "execution_count": 14,
     "metadata": {},
     "output_type": "execute_result"
    }
   ],
   "source": [
    "owner_filter = (df['owner'] == 'Test Drive Car')\n",
    "df.loc[owner_filter, 'age']"
   ]
  },
  {
   "cell_type": "code",
   "execution_count": 15,
   "id": "b70a4f83",
   "metadata": {
    "scrolled": false
   },
   "outputs": [
    {
     "data": {
      "text/plain": [
       "First Owner             5210\n",
       "Second Owner            2012\n",
       "Third Owner              508\n",
       "Fourth & Above Owner     159\n",
       "Name: owner, dtype: int64"
      ]
     },
     "execution_count": 15,
     "metadata": {},
     "output_type": "execute_result"
    }
   ],
   "source": [
    "df['owner'].replace({'Test Drive Car': 'First Owner'}, inplace=True)\n",
    "df['owner'].value_counts()"
   ]
  },
  {
   "cell_type": "markdown",
   "id": "7860016d",
   "metadata": {},
   "source": [
    "#### Manufacturer, Age, Seats"
   ]
  },
  {
   "cell_type": "markdown",
   "id": "ed4fb315",
   "metadata": {},
   "source": [
    "The dataset contains some manufacturers with few entries (less than four). These will be grouped into an 'Other' category so that the training and test sets will contain the same number of features after one hot encoding in Section 4 - Feature Engineering (otherwise a manufacturer will appear in either the training or test set but not both).\n",
    "\n",
    "This is also the case for the age and seats columns. Although numerical, these variables will be classed as categorical as they are discrete and will be ordinal encoded in Section 4. Ages above 20 will be classed as 21 and number of seats above 10 will be classed as 10 a seater car.\n",
    "\n",
    "Although not ideal, this is required to ensure that the training and test sets have the same shape so that the model can be properly evaluated."
   ]
  },
  {
   "cell_type": "code",
   "execution_count": 16,
   "id": "6b510125",
   "metadata": {},
   "outputs": [
    {
     "data": {
      "text/plain": [
       "Maruti           2367\n",
       "Hyundai          1352\n",
       "Mahindra          756\n",
       "Tata              718\n",
       "Honda             466\n",
       "Toyota            452\n",
       "Ford              388\n",
       "Chevrolet         230\n",
       "Renault           228\n",
       "Volkswagen        183\n",
       "BMW               118\n",
       "Skoda             104\n",
       "Nissan             81\n",
       "Jaguar             71\n",
       "Volvo              67\n",
       "Datsun             65\n",
       "Mercedes-Benz      51\n",
       "Fiat               41\n",
       "Audi               40\n",
       "Lexus              34\n",
       "Jeep               31\n",
       "Mitsubishi         14\n",
       "Force               6\n",
       "Isuzu               5\n",
       "Land                5\n",
       "Kia                 4\n",
       "Ambassador          4\n",
       "Daewoo              3\n",
       "MG                  3\n",
       "Ashok               1\n",
       "Opel                1\n",
       "Name: manufacturer, dtype: int64"
      ]
     },
     "execution_count": 16,
     "metadata": {},
     "output_type": "execute_result"
    }
   ],
   "source": [
    "df['manufacturer'].value_counts()"
   ]
  },
  {
   "cell_type": "code",
   "execution_count": 17,
   "id": "f857588c",
   "metadata": {},
   "outputs": [
    {
     "data": {
      "text/plain": [
       "Maruti           2367\n",
       "Hyundai          1352\n",
       "Mahindra          756\n",
       "Tata              718\n",
       "Honda             466\n",
       "Toyota            452\n",
       "Ford              388\n",
       "Chevrolet         230\n",
       "Renault           228\n",
       "Volkswagen        183\n",
       "BMW               118\n",
       "Skoda             104\n",
       "Nissan             81\n",
       "Jaguar             71\n",
       "Volvo              67\n",
       "Datsun             65\n",
       "Mercedes-Benz      51\n",
       "Fiat               41\n",
       "Audi               40\n",
       "Lexus              34\n",
       "Jeep               31\n",
       "Mitsubishi         14\n",
       "Other               8\n",
       "Force               6\n",
       "Land                5\n",
       "Isuzu               5\n",
       "Kia                 4\n",
       "Ambassador          4\n",
       "Name: manufacturer, dtype: int64"
      ]
     },
     "execution_count": 17,
     "metadata": {},
     "output_type": "execute_result"
    }
   ],
   "source": [
    "df['manufacturer'] = df['manufacturer'].replace(['Ashok', 'Opel', 'MG', 'Daewoo'], 'Other')\n",
    "df['manufacturer'].value_counts()"
   ]
  },
  {
   "cell_type": "code",
   "execution_count": 18,
   "id": "3049de9a",
   "metadata": {},
   "outputs": [
    {
     "data": {
      "text/plain": [
       "3     1009\n",
       "4      856\n",
       "2      806\n",
       "5      775\n",
       "7      666\n",
       "8      621\n",
       "6      618\n",
       "1      582\n",
       "9      567\n",
       "10     372\n",
       "11     229\n",
       "12     199\n",
       "13     173\n",
       "14     102\n",
       "15      76\n",
       "0       73\n",
       "16      51\n",
       "17      37\n",
       "18      19\n",
       "20      15\n",
       "21      14\n",
       "22       9\n",
       "23       9\n",
       "19       6\n",
       "26       2\n",
       "24       2\n",
       "25       1\n",
       "Name: age, dtype: int64"
      ]
     },
     "execution_count": 18,
     "metadata": {},
     "output_type": "execute_result"
    }
   ],
   "source": [
    "df['age'].value_counts()"
   ]
  },
  {
   "cell_type": "code",
   "execution_count": 19,
   "id": "52abff8f",
   "metadata": {},
   "outputs": [
    {
     "data": {
      "text/plain": [
       "3     1009\n",
       "4      856\n",
       "2      806\n",
       "5      775\n",
       "7      666\n",
       "8      621\n",
       "6      618\n",
       "1      582\n",
       "9      567\n",
       "10     372\n",
       "11     229\n",
       "12     199\n",
       "13     173\n",
       "14     102\n",
       "15      76\n",
       "0       73\n",
       "16      51\n",
       "21      37\n",
       "17      37\n",
       "18      19\n",
       "20      15\n",
       "19       6\n",
       "Name: age, dtype: int64"
      ]
     },
     "execution_count": 19,
     "metadata": {},
     "output_type": "execute_result"
    }
   ],
   "source": [
    "df['age'] = df['age'].replace([np.arange(21, 27,1)], 21)\n",
    "df['age'].value_counts()"
   ]
  },
  {
   "cell_type": "code",
   "execution_count": 20,
   "id": "ceed30e6",
   "metadata": {},
   "outputs": [
    {
     "data": {
      "text/plain": [
       "5     6239\n",
       "7     1120\n",
       "8      235\n",
       "4      133\n",
       "9       80\n",
       "6       62\n",
       "10      19\n",
       "14       1\n",
       "Name: seats, dtype: int64"
      ]
     },
     "execution_count": 20,
     "metadata": {},
     "output_type": "execute_result"
    }
   ],
   "source": [
    "df['seats'].value_counts()"
   ]
  },
  {
   "cell_type": "code",
   "execution_count": 21,
   "id": "dc1f09a8",
   "metadata": {},
   "outputs": [
    {
     "data": {
      "text/plain": [
       "5     6239\n",
       "7     1120\n",
       "8      235\n",
       "4      133\n",
       "9       80\n",
       "6       62\n",
       "10      20\n",
       "Name: seats, dtype: int64"
      ]
     },
     "execution_count": 21,
     "metadata": {},
     "output_type": "execute_result"
    }
   ],
   "source": [
    "df['seats'] = df['seats'].replace(14, 10)\n",
    "df['seats'].value_counts()"
   ]
  },
  {
   "cell_type": "markdown",
   "id": "5eae3eb5",
   "metadata": {},
   "source": [
    "## 3. Exploratory Data Analysis"
   ]
  },
  {
   "cell_type": "markdown",
   "id": "6c48169d",
   "metadata": {},
   "source": [
    "The following section aims to use data visualization to provide a deeper understanding of the various features and to identify trends in the data.\n",
    "\n",
    "The questions to be answered using EDA are as follows:\n",
    "- How do the numerical variables affect selling price?\n",
    "- How do the categorical variables affect selling price?\n",
    "- What is the distribution of the numerical variables?\n",
    "- What is the distribution of the categorical variables?\n",
    "- Which are the most popular car manufacturers?\n",
    "- How strong is the correlation between numerical features?"
   ]
  },
  {
   "cell_type": "code",
   "execution_count": 22,
   "id": "a21929d0",
   "metadata": {
    "scrolled": false
   },
   "outputs": [],
   "source": [
    "import matplotlib.pyplot as plt\n",
    "import seaborn as sns\n",
    "%matplotlib inline"
   ]
  },
  {
   "cell_type": "code",
   "execution_count": 23,
   "id": "ff38b95a",
   "metadata": {
    "scrolled": false
   },
   "outputs": [],
   "source": [
    "sns.set_theme(style='whitegrid', palette='magma')"
   ]
  },
  {
   "cell_type": "code",
   "execution_count": 24,
   "id": "60202f72",
   "metadata": {
    "scrolled": false
   },
   "outputs": [],
   "source": [
    "# Separating numerical and categorical features\n",
    "# model is left out because of the high number of different car models\n",
    "# manufacturer will be plotted separately because of the high number of categories\n",
    "numerical = ['age', 'km_driven', 'mileage', 'engine', 'max_power', 'seats']\n",
    "discrete = ['age', 'seats']\n",
    "continuous = ['km_driven', 'mileage', 'engine', 'max_power']\n",
    "categorical = ['fuel', 'seller_type', 'transmission', 'owner']"
   ]
  },
  {
   "cell_type": "markdown",
   "id": "bda73d57",
   "metadata": {},
   "source": [
    "#### How do the numerical variables vary with selling price?"
   ]
  },
  {
   "cell_type": "code",
   "execution_count": 25,
   "id": "36894a71",
   "metadata": {
    "scrolled": false
   },
   "outputs": [
    {
     "data": {
      "image/png": "[encoded data removed]",
      "text/plain": [
       "<Figure size 720x504 with 1 Axes>"
      ]
     },
     "metadata": {},
     "output_type": "display_data"
    },
    {
     "data": {
      "image/png": "[encoded data removed]",
      "text/plain": [
       "<Figure size 720x504 with 1 Axes>"
      ]
     },
     "metadata": {},
     "output_type": "display_data"
    },
    {
     "data": {
      "image/png": "[encoded data removed]",
      "text/plain": [
       "<Figure size 720x504 with 1 Axes>"
      ]
     },
     "metadata": {},
     "output_type": "display_data"
    },
    {
     "data": {
      "image/png": "[encoded data removed]",
      "text/plain": [
       "<Figure size 720x504 with 1 Axes>"
      ]
     },
     "metadata": {},
     "output_type": "display_data"
    },
    {
     "data": {
      "image/png": "[encoded data removed]",
      "text/plain": [
       "<Figure size 720x504 with 1 Axes>"
      ]
     },
     "metadata": {},
     "output_type": "display_data"
    },
    {
     "data": {
      "image/png": "[encoded data removed]",
      "text/plain": [
       "<Figure size 720x504 with 1 Axes>"
      ]
     },
     "metadata": {},
     "output_type": "display_data"
    }
   ],
   "source": [
    "for i in df[numerical].columns:\n",
    "    plt.figure(figsize=(10, 7))\n",
    "    sns.scatterplot(x=i, y='selling_price', data=df)\n",
    "    plt.show()"
   ]
  },
  {
   "cell_type": "markdown",
   "id": "0046e208",
   "metadata": {},
   "source": [
    "It is clear from the scatter plots that there is an outlier with a selling price significantly higher than the rest of the cars. However, it does not appear to be a mistake as the high selling price is reasonable since that car also has higher power and higher mileage than the rest of the samples and is also relatively new.\n",
    "\n",
    "Outliers will not be removed as the extreme cases cannot be ignored. However RobustScaler will be used in Section 4 to transform the data so that models which are sensitive to outliers can still perform well despite the presence of outliers."
   ]
  },
  {
   "cell_type": "markdown",
   "id": "cfb4e910",
   "metadata": {},
   "source": [
    "#### How do the categorical variables vary with selling price?"
   ]
  },
  {
   "cell_type": "code",
   "execution_count": 26,
   "id": "857348d3",
   "metadata": {
    "scrolled": false
   },
   "outputs": [
    {
     "data": {
      "image/png": "[encoded data removed]",
      "text/plain": [
       "<Figure size 1080x864 with 1 Axes>"
      ]
     },
     "metadata": {},
     "output_type": "display_data"
    },
    {
     "data": {
      "image/png": "[encoded data removed]",
      "text/plain": [
       "<Figure size 1080x864 with 1 Axes>"
      ]
     },
     "metadata": {},
     "output_type": "display_data"
    },
    {
     "data": {
      "image/png": "[encoded data removed]",
      "text/plain": [
       "<Figure size 1080x864 with 1 Axes>"
      ]
     },
     "metadata": {},
     "output_type": "display_data"
    },
    {
     "data": {
      "image/png": "[encoded data removed]",
      "text/plain": [
       "<Figure size 1080x864 with 1 Axes>"
      ]
     },
     "metadata": {},
     "output_type": "display_data"
    }
   ],
   "source": [
    "for i in df[categorical].columns:\n",
    "    plt.figure(figsize=(15, 12))\n",
    "    sns.boxplot(x=i, y='selling_price', data=df, palette='magma')\n",
    "    plt.ylim(0, 4000000) #Hiding some outliers for easier visualization\n",
    "    plt.show()"
   ]
  },
  {
   "cell_type": "markdown",
   "id": "b4b2f027",
   "metadata": {},
   "source": [
    "As expected, automatic cars are worth more than manual cars and the fewer the number of previous owners a car has had, the more it is worth.\n",
    "\n",
    "It is also interesting to note that cars sold through a dealer have sold for a higher price. This could be due to dealers having access to professional salespeople or a better understanding of the used car market."
   ]
  },
  {
   "cell_type": "code",
   "execution_count": 27,
   "id": "9bbe3d39",
   "metadata": {},
   "outputs": [
    {
     "data": {
      "image/png": "[encoded data removed]",
      "text/plain": [
       "<Figure size 1080x864 with 1 Axes>"
      ]
     },
     "metadata": {},
     "output_type": "display_data"
    }
   ],
   "source": [
    "plt.figure(figsize=(15, 12))\n",
    "sns.boxplot(x='selling_price', y='manufacturer', data=df, palette='magma')\n",
    "plt.xlim(0, 8000000)\n",
    "plt.show()"
   ]
  },
  {
   "cell_type": "markdown",
   "id": "2e89a173",
   "metadata": {},
   "source": [
    "#### What is the distribution of the numerical variables?"
   ]
  },
  {
   "cell_type": "code",
   "execution_count": 28,
   "id": "5325d6c7",
   "metadata": {
    "scrolled": false
   },
   "outputs": [
    {
     "data": {
      "image/png": "[encoded data removed]",
      "text/plain": [
       "<Figure size 720x504 with 1 Axes>"
      ]
     },
     "metadata": {},
     "output_type": "display_data"
    },
    {
     "data": {
      "image/png": "[encoded data removed]",
      "text/plain": [
       "<Figure size 720x504 with 1 Axes>"
      ]
     },
     "metadata": {},
     "output_type": "display_data"
    }
   ],
   "source": [
    "for i in df[discrete].columns:\n",
    "    plt.figure(figsize=(10, 7))\n",
    "    sns.histplot(df, x=i, discrete=True, kde=True)\n",
    "    plt.show()"
   ]
  },
  {
   "cell_type": "code",
   "execution_count": 29,
   "id": "7988a363",
   "metadata": {},
   "outputs": [
    {
     "data": {
      "image/png": "[encoded data removed]",
      "text/plain": [
       "<Figure size 720x504 with 1 Axes>"
      ]
     },
     "metadata": {},
     "output_type": "display_data"
    },
    {
     "data": {
      "image/png": "[encoded data removed]",
      "text/plain": [
       "<Figure size 720x504 with 1 Axes>"
      ]
     },
     "metadata": {},
     "output_type": "display_data"
    },
    {
     "data": {
      "image/png": "[encoded data removed]",
      "text/plain": [
       "<Figure size 720x504 with 1 Axes>"
      ]
     },
     "metadata": {},
     "output_type": "display_data"
    },
    {
     "data": {
      "image/png": "[encoded data removed]",
      "text/plain": [
       "<Figure size 720x504 with 1 Axes>"
      ]
     },
     "metadata": {},
     "output_type": "display_data"
    }
   ],
   "source": [
    "for i in df[continuous].columns:\n",
    "    plt.figure(figsize=(10, 7))\n",
    "    sns.histplot(df, x=i, kde=True, bins=25)\n",
    "    plt.show()"
   ]
  },
  {
   "cell_type": "markdown",
   "id": "28062b9e",
   "metadata": {},
   "source": [
    "The histograms show that the distribution of the numerical variables is largely positively skewed."
   ]
  },
  {
   "cell_type": "markdown",
   "id": "9e7423b6",
   "metadata": {},
   "source": [
    "#### What is the distribution of the categorical variables?"
   ]
  },
  {
   "cell_type": "code",
   "execution_count": 30,
   "id": "d56db644",
   "metadata": {},
   "outputs": [
    {
     "data": {
      "image/png": "[encoded data removed]",
      "text/plain": [
       "<Figure size 720x504 with 1 Axes>"
      ]
     },
     "metadata": {},
     "output_type": "display_data"
    },
    {
     "data": {
      "image/png": "[encoded data removed]",
      "text/plain": [
       "<Figure size 720x504 with 1 Axes>"
      ]
     },
     "metadata": {},
     "output_type": "display_data"
    },
    {
     "data": {
      "image/png": "[encoded data removed]",
      "text/plain": [
       "<Figure size 720x504 with 1 Axes>"
      ]
     },
     "metadata": {},
     "output_type": "display_data"
    },
    {
     "data": {
      "image/png": "[encoded data removed]",
      "text/plain": [
       "<Figure size 720x504 with 1 Axes>"
      ]
     },
     "metadata": {},
     "output_type": "display_data"
    }
   ],
   "source": [
    "for i in df[categorical].columns:\n",
    "    plt.figure(figsize=(10, 7))\n",
    "    sns.countplot(x=i, data=df)\n",
    "    plt.show()"
   ]
  },
  {
   "cell_type": "markdown",
   "id": "a35bd0ee",
   "metadata": {},
   "source": [
    "#### Which are the most popular car manufacturers?"
   ]
  },
  {
   "cell_type": "code",
   "execution_count": 31,
   "id": "321a3c6f",
   "metadata": {
    "scrolled": false
   },
   "outputs": [
    {
     "data": {
      "image/png": "[encoded data removed]",
      "text/plain": [
       "<Figure size 1080x720 with 1 Axes>"
      ]
     },
     "metadata": {},
     "output_type": "display_data"
    }
   ],
   "source": [
    "plt.figure(figsize=(15, 10))\n",
    "sns.countplot(y='manufacturer', data=df, order=df['manufacturer'].value_counts().index, palette='magma')\n",
    "plt.title('Number of Cars Sold for Each Manufacturer')\n",
    "plt.xlabel('Number of Cars Sold')\n",
    "plt.ylabel('Manufacturer')\n",
    "plt.show()"
   ]
  },
  {
   "cell_type": "markdown",
   "id": "3a341898",
   "metadata": {},
   "source": [
    "#### How strong is the correlation between numerical features?"
   ]
  },
  {
   "cell_type": "code",
   "execution_count": 32,
   "id": "46f82d8e",
   "metadata": {},
   "outputs": [
    {
     "data": {
      "image/png": "[encoded data removed]",
      "text/plain": [
       "<Figure size 1080x864 with 2 Axes>"
      ]
     },
     "metadata": {},
     "output_type": "display_data"
    }
   ],
   "source": [
    "plt.figure(figsize=(15, 12))\n",
    "sns.heatmap(df[numerical].corr(), linewidths=0.05, square=True, annot=True)\n",
    "plt.show()"
   ]
  },
  {
   "cell_type": "markdown",
   "id": "227c5292",
   "metadata": {},
   "source": [
    "The heatmap displays the pearson correlation coefficients between two features. A largely-used absolute threshold value of __>0.7__ is used to indicate the presence of multicollinearity which does not occur between any two predictors in this dataset (although the coefficient between engine and max_power is close, but both features will be left in at this stage of the analysis)."
   ]
  },
  {
   "cell_type": "markdown",
   "id": "65495da5",
   "metadata": {},
   "source": [
    "## 4. Feature Engineering"
   ]
  },
  {
   "cell_type": "markdown",
   "id": "b7b25123",
   "metadata": {},
   "source": [
    "In the following section, the dataset features will be preprocessed and prepared to ensure optimal performance of the models built in Section 5. The steps involved will be as follows:\n",
    "- Creating test and training Set\n",
    "- Standardization of continuous features\n",
    "- One-hot encoding nominal categorical features\n",
    "- Ordinal encoding ordinal categorical features"
   ]
  },
  {
   "cell_type": "markdown",
   "id": "3efb1cb9",
   "metadata": {},
   "source": [
    "#### Creating Test and Training Set"
   ]
  },
  {
   "cell_type": "code",
   "execution_count": 33,
   "id": "466e73ae",
   "metadata": {
    "scrolled": false
   },
   "outputs": [],
   "source": [
    "from sklearn.model_selection import train_test_split"
   ]
  },
  {
   "cell_type": "code",
   "execution_count": 34,
   "id": "3e29a799",
   "metadata": {
    "scrolled": false
   },
   "outputs": [
    {
     "data": {
      "text/html": [
       "<div>\n",
       "<style scoped>\n",
       "    .dataframe tbody tr th:only-of-type {\n",
       "        vertical-align: middle;\n",
       "    }\n",
       "\n",
       "    .dataframe tbody tr th {\n",
       "        vertical-align: top;\n",
       "    }\n",
       "\n",
       "    .dataframe thead th {\n",
       "        text-align: right;\n",
       "    }\n",
       "</style>\n",
       "<table border=\"1\" class=\"dataframe\">\n",
       "  <thead>\n",
       "    <tr style=\"text-align: right;\">\n",
       "      <th></th>\n",
       "      <th>manufacturer</th>\n",
       "      <th>age</th>\n",
       "      <th>km_driven</th>\n",
       "      <th>fuel</th>\n",
       "      <th>seller_type</th>\n",
       "      <th>transmission</th>\n",
       "      <th>owner</th>\n",
       "      <th>mileage</th>\n",
       "      <th>engine</th>\n",
       "      <th>max_power</th>\n",
       "      <th>seats</th>\n",
       "      <th>selling_price</th>\n",
       "    </tr>\n",
       "  </thead>\n",
       "  <tbody>\n",
       "    <tr>\n",
       "      <th>0</th>\n",
       "      <td>Maruti</td>\n",
       "      <td>6</td>\n",
       "      <td>145500</td>\n",
       "      <td>Diesel</td>\n",
       "      <td>Individual</td>\n",
       "      <td>Manual</td>\n",
       "      <td>First Owner</td>\n",
       "      <td>23.40</td>\n",
       "      <td>1248.0</td>\n",
       "      <td>74.00</td>\n",
       "      <td>5</td>\n",
       "      <td>450000</td>\n",
       "    </tr>\n",
       "    <tr>\n",
       "      <th>1</th>\n",
       "      <td>Skoda</td>\n",
       "      <td>6</td>\n",
       "      <td>120000</td>\n",
       "      <td>Diesel</td>\n",
       "      <td>Individual</td>\n",
       "      <td>Manual</td>\n",
       "      <td>Second Owner</td>\n",
       "      <td>21.14</td>\n",
       "      <td>1498.0</td>\n",
       "      <td>103.52</td>\n",
       "      <td>5</td>\n",
       "      <td>370000</td>\n",
       "    </tr>\n",
       "    <tr>\n",
       "      <th>2</th>\n",
       "      <td>Honda</td>\n",
       "      <td>14</td>\n",
       "      <td>140000</td>\n",
       "      <td>Petrol</td>\n",
       "      <td>Individual</td>\n",
       "      <td>Manual</td>\n",
       "      <td>Third Owner</td>\n",
       "      <td>17.70</td>\n",
       "      <td>1497.0</td>\n",
       "      <td>78.00</td>\n",
       "      <td>5</td>\n",
       "      <td>158000</td>\n",
       "    </tr>\n",
       "    <tr>\n",
       "      <th>3</th>\n",
       "      <td>Hyundai</td>\n",
       "      <td>10</td>\n",
       "      <td>127000</td>\n",
       "      <td>Diesel</td>\n",
       "      <td>Individual</td>\n",
       "      <td>Manual</td>\n",
       "      <td>First Owner</td>\n",
       "      <td>23.00</td>\n",
       "      <td>1396.0</td>\n",
       "      <td>90.00</td>\n",
       "      <td>5</td>\n",
       "      <td>225000</td>\n",
       "    </tr>\n",
       "    <tr>\n",
       "      <th>4</th>\n",
       "      <td>Maruti</td>\n",
       "      <td>13</td>\n",
       "      <td>120000</td>\n",
       "      <td>Petrol</td>\n",
       "      <td>Individual</td>\n",
       "      <td>Manual</td>\n",
       "      <td>First Owner</td>\n",
       "      <td>16.10</td>\n",
       "      <td>1298.0</td>\n",
       "      <td>88.20</td>\n",
       "      <td>5</td>\n",
       "      <td>130000</td>\n",
       "    </tr>\n",
       "  </tbody>\n",
       "</table>\n",
       "</div>"
      ],
      "text/plain": [
       "  manufacturer  age  km_driven    fuel seller_type transmission         owner  \\\n",
       "0       Maruti    6     145500  Diesel  Individual       Manual   First Owner   \n",
       "1        Skoda    6     120000  Diesel  Individual       Manual  Second Owner   \n",
       "2        Honda   14     140000  Petrol  Individual       Manual   Third Owner   \n",
       "3      Hyundai   10     127000  Diesel  Individual       Manual   First Owner   \n",
       "4       Maruti   13     120000  Petrol  Individual       Manual   First Owner   \n",
       "\n",
       "   mileage  engine  max_power  seats  selling_price  \n",
       "0    23.40  1248.0      74.00      5         450000  \n",
       "1    21.14  1498.0     103.52      5         370000  \n",
       "2    17.70  1497.0      78.00      5         158000  \n",
       "3    23.00  1396.0      90.00      5         225000  \n",
       "4    16.10  1298.0      88.20      5         130000  "
      ]
     },
     "execution_count": 34,
     "metadata": {},
     "output_type": "execute_result"
    }
   ],
   "source": [
    "# Creating new dataframe without model\n",
    "\n",
    "df_model = df.drop(columns='model')\n",
    "df_model.head()"
   ]
  },
  {
   "cell_type": "code",
   "execution_count": 35,
   "id": "60c7b0c6",
   "metadata": {
    "scrolled": false
   },
   "outputs": [],
   "source": [
    "X = df_model.drop(columns='selling_price')\n",
    "y = df_model['selling_price'].values\n",
    "\n",
    "X_train, X_test, y_train, y_test = train_test_split(X, y, test_size=0.2, random_state=42,\n",
    "                                                    stratify=X['manufacturer'])"
   ]
  },
  {
   "cell_type": "code",
   "execution_count": 36,
   "id": "2711dbbe",
   "metadata": {
    "scrolled": false
   },
   "outputs": [
    {
     "name": "stdout",
     "output_type": "stream",
     "text": [
      "(6311, 11)\n",
      "(1578, 11)\n",
      "(6311,)\n",
      "(1578,)\n"
     ]
    }
   ],
   "source": [
    "print(X_train.shape)\n",
    "print(X_test.shape)\n",
    "print(y_train.shape)\n",
    "print(y_test.shape)"
   ]
  },
  {
   "cell_type": "markdown",
   "id": "ea8f38a0",
   "metadata": {},
   "source": [
    "#### Preprocessing"
   ]
  },
  {
   "cell_type": "markdown",
   "id": "d273714f",
   "metadata": {},
   "source": [
    "RobustScaler will be used for standardization as it is robust to outliers. The scaler removes the median and scales the data according to the interquartile range. Standardization will only be applied to continuous features and discrete numerical features (age, seats) will be treated as ordinal categorical features.\n",
    "\n",
    "The categorical features will be one-hot encoded (each unique value in the column will be converted into a new feature that is assigned a binary value corresponding to the presence of that value in a particular instance) and ordinal encoded (each unique value is assigned an integer value corresponding to 'rank' of that value) if that feature contains values with intrinsic natural order. This is to allow algorithms to better understand the categorical variables to make more accurate predictions.\n",
    "\n",
    "ColumnTransformer will be used to allow different features in the dataset to be transformed separately using different preprocessing techniques."
   ]
  },
  {
   "cell_type": "code",
   "execution_count": 37,
   "id": "7cb7e980",
   "metadata": {
    "scrolled": false
   },
   "outputs": [],
   "source": [
    "from sklearn.preprocessing import RobustScaler, OneHotEncoder, OrdinalEncoder\n",
    "from sklearn.compose import make_column_transformer"
   ]
  },
  {
   "cell_type": "code",
   "execution_count": 38,
   "id": "24eaf112",
   "metadata": {
    "scrolled": true
   },
   "outputs": [],
   "source": [
    "ss = RobustScaler()\n",
    "ohe = OneHotEncoder(sparse=False)\n",
    "oe = OrdinalEncoder(categories=[\n",
    "    sorted(list(df_model['age'].value_counts().index)),                     # Categories for age\n",
    "    ['First Owner', 'Second Owner', 'Third Owner', 'Fourth & Above Owner'], # Categories for owners\n",
    "    sorted(list(df_model['seats'].value_counts().index))])                  # Categories for seats\n",
    "\n",
    "# Note: categories='auto' did not work as expected, therefore a sorted value_counts().index list was used instead"
   ]
  },
  {
   "cell_type": "code",
   "execution_count": 39,
   "id": "5cfc9dee",
   "metadata": {
    "scrolled": false
   },
   "outputs": [],
   "source": [
    "ct = make_column_transformer(\n",
    "    (ss, ['km_driven', 'mileage', 'engine', 'max_power']),\n",
    "    (ohe, ['manufacturer', 'fuel', 'seller_type', 'transmission']),\n",
    "    (oe, ['age', 'owner', 'seats']))\n",
    "\n",
    "X_train = ct.fit_transform(X_train)\n",
    "X_test = ct.fit_transform(X_test)"
   ]
  },
  {
   "cell_type": "code",
   "execution_count": 40,
   "id": "0cb3123e",
   "metadata": {},
   "outputs": [
    {
     "name": "stdout",
     "output_type": "stream",
     "text": [
      "(6311, 44)\n",
      "(1578, 44)\n"
     ]
    }
   ],
   "source": [
    "# Checking that the training and test sets have the same number of features\n",
    "print(X_train.shape)\n",
    "print(X_test.shape)"
   ]
  },
  {
   "cell_type": "code",
   "execution_count": 41,
   "id": "b0a635aa",
   "metadata": {},
   "outputs": [
    {
     "data": {
      "text/html": [
       "<div>\n",
       "<style scoped>\n",
       "    .dataframe tbody tr th:only-of-type {\n",
       "        vertical-align: middle;\n",
       "    }\n",
       "\n",
       "    .dataframe tbody tr th {\n",
       "        vertical-align: top;\n",
       "    }\n",
       "\n",
       "    .dataframe thead th {\n",
       "        text-align: right;\n",
       "    }\n",
       "</style>\n",
       "<table border=\"1\" class=\"dataframe\">\n",
       "  <thead>\n",
       "    <tr style=\"text-align: right;\">\n",
       "      <th></th>\n",
       "      <th>0</th>\n",
       "      <th>1</th>\n",
       "      <th>2</th>\n",
       "      <th>3</th>\n",
       "      <th>4</th>\n",
       "      <th>5</th>\n",
       "      <th>6</th>\n",
       "      <th>7</th>\n",
       "      <th>8</th>\n",
       "      <th>9</th>\n",
       "      <th>10</th>\n",
       "      <th>11</th>\n",
       "      <th>12</th>\n",
       "      <th>13</th>\n",
       "      <th>14</th>\n",
       "      <th>15</th>\n",
       "      <th>16</th>\n",
       "      <th>17</th>\n",
       "      <th>18</th>\n",
       "      <th>19</th>\n",
       "      <th>20</th>\n",
       "      <th>21</th>\n",
       "      <th>22</th>\n",
       "      <th>23</th>\n",
       "      <th>24</th>\n",
       "      <th>25</th>\n",
       "      <th>26</th>\n",
       "      <th>27</th>\n",
       "      <th>28</th>\n",
       "      <th>29</th>\n",
       "      <th>30</th>\n",
       "      <th>31</th>\n",
       "      <th>32</th>\n",
       "      <th>33</th>\n",
       "      <th>34</th>\n",
       "      <th>35</th>\n",
       "      <th>36</th>\n",
       "      <th>37</th>\n",
       "      <th>38</th>\n",
       "      <th>39</th>\n",
       "      <th>40</th>\n",
       "      <th>41</th>\n",
       "      <th>42</th>\n",
       "      <th>43</th>\n",
       "    </tr>\n",
       "  </thead>\n",
       "  <tbody>\n",
       "    <tr>\n",
       "      <th>count</th>\n",
       "      <td>6311.000000</td>\n",
       "      <td>6311.000000</td>\n",
       "      <td>6311.000000</td>\n",
       "      <td>6311.000000</td>\n",
       "      <td>6311.000000</td>\n",
       "      <td>6311.000000</td>\n",
       "      <td>6311.000000</td>\n",
       "      <td>6311.000000</td>\n",
       "      <td>6311.000000</td>\n",
       "      <td>6311.000000</td>\n",
       "      <td>6311.000000</td>\n",
       "      <td>6311.000000</td>\n",
       "      <td>6311.000000</td>\n",
       "      <td>6311.000000</td>\n",
       "      <td>6311.000000</td>\n",
       "      <td>6311.000000</td>\n",
       "      <td>6311.000000</td>\n",
       "      <td>6311.000000</td>\n",
       "      <td>6311.000000</td>\n",
       "      <td>6311.000000</td>\n",
       "      <td>6311.000000</td>\n",
       "      <td>6311.000000</td>\n",
       "      <td>6311.000000</td>\n",
       "      <td>6311.000000</td>\n",
       "      <td>6311.000000</td>\n",
       "      <td>6311.000000</td>\n",
       "      <td>6311.000000</td>\n",
       "      <td>6311.000000</td>\n",
       "      <td>6311.000000</td>\n",
       "      <td>6311.000000</td>\n",
       "      <td>6311.000000</td>\n",
       "      <td>6311.000000</td>\n",
       "      <td>6311.000000</td>\n",
       "      <td>6311.000000</td>\n",
       "      <td>6311.000000</td>\n",
       "      <td>6311.000000</td>\n",
       "      <td>6311.000000</td>\n",
       "      <td>6311.000000</td>\n",
       "      <td>6311.000000</td>\n",
       "      <td>6311.000000</td>\n",
       "      <td>6311.000000</td>\n",
       "      <td>6311.000000</td>\n",
       "      <td>6311.000000</td>\n",
       "      <td>6311.000000</td>\n",
       "    </tr>\n",
       "    <tr>\n",
       "      <th>mean</th>\n",
       "      <td>0.144040</td>\n",
       "      <td>0.026131</td>\n",
       "      <td>0.540210</td>\n",
       "      <td>0.275926</td>\n",
       "      <td>0.000475</td>\n",
       "      <td>0.005071</td>\n",
       "      <td>0.014895</td>\n",
       "      <td>0.029155</td>\n",
       "      <td>0.008240</td>\n",
       "      <td>0.005229</td>\n",
       "      <td>0.000792</td>\n",
       "      <td>0.049121</td>\n",
       "      <td>0.059103</td>\n",
       "      <td>0.171447</td>\n",
       "      <td>0.000634</td>\n",
       "      <td>0.009032</td>\n",
       "      <td>0.003961</td>\n",
       "      <td>0.000475</td>\n",
       "      <td>0.000634</td>\n",
       "      <td>0.004278</td>\n",
       "      <td>0.095864</td>\n",
       "      <td>0.300111</td>\n",
       "      <td>0.006497</td>\n",
       "      <td>0.001743</td>\n",
       "      <td>0.010299</td>\n",
       "      <td>0.000951</td>\n",
       "      <td>0.028839</td>\n",
       "      <td>0.013152</td>\n",
       "      <td>0.090952</td>\n",
       "      <td>0.057360</td>\n",
       "      <td>0.023134</td>\n",
       "      <td>0.008556</td>\n",
       "      <td>0.006497</td>\n",
       "      <td>0.543179</td>\n",
       "      <td>0.004595</td>\n",
       "      <td>0.445730</td>\n",
       "      <td>0.140073</td>\n",
       "      <td>0.830296</td>\n",
       "      <td>0.029631</td>\n",
       "      <td>0.130566</td>\n",
       "      <td>0.869434</td>\n",
       "      <td>6.006972</td>\n",
       "      <td>0.434638</td>\n",
       "      <td>1.423071</td>\n",
       "    </tr>\n",
       "    <tr>\n",
       "      <th>std</th>\n",
       "      <td>0.832931</td>\n",
       "      <td>0.709548</td>\n",
       "      <td>1.305772</td>\n",
       "      <td>1.044356</td>\n",
       "      <td>0.021799</td>\n",
       "      <td>0.071032</td>\n",
       "      <td>0.121141</td>\n",
       "      <td>0.168255</td>\n",
       "      <td>0.090405</td>\n",
       "      <td>0.072128</td>\n",
       "      <td>0.028138</td>\n",
       "      <td>0.216137</td>\n",
       "      <td>0.235836</td>\n",
       "      <td>0.376929</td>\n",
       "      <td>0.025170</td>\n",
       "      <td>0.094613</td>\n",
       "      <td>0.062819</td>\n",
       "      <td>0.021799</td>\n",
       "      <td>0.025170</td>\n",
       "      <td>0.065273</td>\n",
       "      <td>0.294428</td>\n",
       "      <td>0.458342</td>\n",
       "      <td>0.080346</td>\n",
       "      <td>0.041716</td>\n",
       "      <td>0.100970</td>\n",
       "      <td>0.030822</td>\n",
       "      <td>0.167366</td>\n",
       "      <td>0.113933</td>\n",
       "      <td>0.287564</td>\n",
       "      <td>0.232548</td>\n",
       "      <td>0.150342</td>\n",
       "      <td>0.092112</td>\n",
       "      <td>0.080346</td>\n",
       "      <td>0.498172</td>\n",
       "      <td>0.067637</td>\n",
       "      <td>0.497085</td>\n",
       "      <td>0.347090</td>\n",
       "      <td>0.375402</td>\n",
       "      <td>0.169580</td>\n",
       "      <td>0.336951</td>\n",
       "      <td>0.336951</td>\n",
       "      <td>3.856287</td>\n",
       "      <td>0.702135</td>\n",
       "      <td>0.958274</td>\n",
       "    </tr>\n",
       "    <tr>\n",
       "      <th>min</th>\n",
       "      <td>-0.967726</td>\n",
       "      <td>-1.859206</td>\n",
       "      <td>-1.620779</td>\n",
       "      <td>-1.449190</td>\n",
       "      <td>0.000000</td>\n",
       "      <td>0.000000</td>\n",
       "      <td>0.000000</td>\n",
       "      <td>0.000000</td>\n",
       "      <td>0.000000</td>\n",
       "      <td>0.000000</td>\n",
       "      <td>0.000000</td>\n",
       "      <td>0.000000</td>\n",
       "      <td>0.000000</td>\n",
       "      <td>0.000000</td>\n",
       "      <td>0.000000</td>\n",
       "      <td>0.000000</td>\n",
       "      <td>0.000000</td>\n",
       "      <td>0.000000</td>\n",
       "      <td>0.000000</td>\n",
       "      <td>0.000000</td>\n",
       "      <td>0.000000</td>\n",
       "      <td>0.000000</td>\n",
       "      <td>0.000000</td>\n",
       "      <td>0.000000</td>\n",
       "      <td>0.000000</td>\n",
       "      <td>0.000000</td>\n",
       "      <td>0.000000</td>\n",
       "      <td>0.000000</td>\n",
       "      <td>0.000000</td>\n",
       "      <td>0.000000</td>\n",
       "      <td>0.000000</td>\n",
       "      <td>0.000000</td>\n",
       "      <td>0.000000</td>\n",
       "      <td>0.000000</td>\n",
       "      <td>0.000000</td>\n",
       "      <td>0.000000</td>\n",
       "      <td>0.000000</td>\n",
       "      <td>0.000000</td>\n",
       "      <td>0.000000</td>\n",
       "      <td>0.000000</td>\n",
       "      <td>0.000000</td>\n",
       "      <td>0.000000</td>\n",
       "      <td>0.000000</td>\n",
       "      <td>0.000000</td>\n",
       "    </tr>\n",
       "    <tr>\n",
       "      <th>25%</th>\n",
       "      <td>-0.419355</td>\n",
       "      <td>-0.454874</td>\n",
       "      <td>-0.132468</td>\n",
       "      <td>-0.410898</td>\n",
       "      <td>0.000000</td>\n",
       "      <td>0.000000</td>\n",
       "      <td>0.000000</td>\n",
       "      <td>0.000000</td>\n",
       "      <td>0.000000</td>\n",
       "      <td>0.000000</td>\n",
       "      <td>0.000000</td>\n",
       "      <td>0.000000</td>\n",
       "      <td>0.000000</td>\n",
       "      <td>0.000000</td>\n",
       "      <td>0.000000</td>\n",
       "      <td>0.000000</td>\n",
       "      <td>0.000000</td>\n",
       "      <td>0.000000</td>\n",
       "      <td>0.000000</td>\n",
       "      <td>0.000000</td>\n",
       "      <td>0.000000</td>\n",
       "      <td>0.000000</td>\n",
       "      <td>0.000000</td>\n",
       "      <td>0.000000</td>\n",
       "      <td>0.000000</td>\n",
       "      <td>0.000000</td>\n",
       "      <td>0.000000</td>\n",
       "      <td>0.000000</td>\n",
       "      <td>0.000000</td>\n",
       "      <td>0.000000</td>\n",
       "      <td>0.000000</td>\n",
       "      <td>0.000000</td>\n",
       "      <td>0.000000</td>\n",
       "      <td>0.000000</td>\n",
       "      <td>0.000000</td>\n",
       "      <td>0.000000</td>\n",
       "      <td>0.000000</td>\n",
       "      <td>1.000000</td>\n",
       "      <td>0.000000</td>\n",
       "      <td>0.000000</td>\n",
       "      <td>1.000000</td>\n",
       "      <td>3.000000</td>\n",
       "      <td>0.000000</td>\n",
       "      <td>1.000000</td>\n",
       "    </tr>\n",
       "    <tr>\n",
       "      <th>50%</th>\n",
       "      <td>0.000000</td>\n",
       "      <td>0.000000</td>\n",
       "      <td>0.000000</td>\n",
       "      <td>0.000000</td>\n",
       "      <td>0.000000</td>\n",
       "      <td>0.000000</td>\n",
       "      <td>0.000000</td>\n",
       "      <td>0.000000</td>\n",
       "      <td>0.000000</td>\n",
       "      <td>0.000000</td>\n",
       "      <td>0.000000</td>\n",
       "      <td>0.000000</td>\n",
       "      <td>0.000000</td>\n",
       "      <td>0.000000</td>\n",
       "      <td>0.000000</td>\n",
       "      <td>0.000000</td>\n",
       "      <td>0.000000</td>\n",
       "      <td>0.000000</td>\n",
       "      <td>0.000000</td>\n",
       "      <td>0.000000</td>\n",
       "      <td>0.000000</td>\n",
       "      <td>0.000000</td>\n",
       "      <td>0.000000</td>\n",
       "      <td>0.000000</td>\n",
       "      <td>0.000000</td>\n",
       "      <td>0.000000</td>\n",
       "      <td>0.000000</td>\n",
       "      <td>0.000000</td>\n",
       "      <td>0.000000</td>\n",
       "      <td>0.000000</td>\n",
       "      <td>0.000000</td>\n",
       "      <td>0.000000</td>\n",
       "      <td>0.000000</td>\n",
       "      <td>1.000000</td>\n",
       "      <td>0.000000</td>\n",
       "      <td>0.000000</td>\n",
       "      <td>0.000000</td>\n",
       "      <td>1.000000</td>\n",
       "      <td>0.000000</td>\n",
       "      <td>0.000000</td>\n",
       "      <td>1.000000</td>\n",
       "      <td>5.000000</td>\n",
       "      <td>0.000000</td>\n",
       "      <td>1.000000</td>\n",
       "    </tr>\n",
       "    <tr>\n",
       "      <th>75%</th>\n",
       "      <td>0.580645</td>\n",
       "      <td>0.545126</td>\n",
       "      <td>0.867532</td>\n",
       "      <td>0.589102</td>\n",
       "      <td>0.000000</td>\n",
       "      <td>0.000000</td>\n",
       "      <td>0.000000</td>\n",
       "      <td>0.000000</td>\n",
       "      <td>0.000000</td>\n",
       "      <td>0.000000</td>\n",
       "      <td>0.000000</td>\n",
       "      <td>0.000000</td>\n",
       "      <td>0.000000</td>\n",
       "      <td>0.000000</td>\n",
       "      <td>0.000000</td>\n",
       "      <td>0.000000</td>\n",
       "      <td>0.000000</td>\n",
       "      <td>0.000000</td>\n",
       "      <td>0.000000</td>\n",
       "      <td>0.000000</td>\n",
       "      <td>0.000000</td>\n",
       "      <td>1.000000</td>\n",
       "      <td>0.000000</td>\n",
       "      <td>0.000000</td>\n",
       "      <td>0.000000</td>\n",
       "      <td>0.000000</td>\n",
       "      <td>0.000000</td>\n",
       "      <td>0.000000</td>\n",
       "      <td>0.000000</td>\n",
       "      <td>0.000000</td>\n",
       "      <td>0.000000</td>\n",
       "      <td>0.000000</td>\n",
       "      <td>0.000000</td>\n",
       "      <td>1.000000</td>\n",
       "      <td>0.000000</td>\n",
       "      <td>1.000000</td>\n",
       "      <td>0.000000</td>\n",
       "      <td>1.000000</td>\n",
       "      <td>0.000000</td>\n",
       "      <td>0.000000</td>\n",
       "      <td>1.000000</td>\n",
       "      <td>8.000000</td>\n",
       "      <td>1.000000</td>\n",
       "      <td>1.000000</td>\n",
       "    </tr>\n",
       "    <tr>\n",
       "      <th>max</th>\n",
       "      <td>23.225806</td>\n",
       "      <td>2.552347</td>\n",
       "      <td>6.119481</td>\n",
       "      <td>5.891016</td>\n",
       "      <td>1.000000</td>\n",
       "      <td>1.000000</td>\n",
       "      <td>1.000000</td>\n",
       "      <td>1.000000</td>\n",
       "      <td>1.000000</td>\n",
       "      <td>1.000000</td>\n",
       "      <td>1.000000</td>\n",
       "      <td>1.000000</td>\n",
       "      <td>1.000000</td>\n",
       "      <td>1.000000</td>\n",
       "      <td>1.000000</td>\n",
       "      <td>1.000000</td>\n",
       "      <td>1.000000</td>\n",
       "      <td>1.000000</td>\n",
       "      <td>1.000000</td>\n",
       "      <td>1.000000</td>\n",
       "      <td>1.000000</td>\n",
       "      <td>1.000000</td>\n",
       "      <td>1.000000</td>\n",
       "      <td>1.000000</td>\n",
       "      <td>1.000000</td>\n",
       "      <td>1.000000</td>\n",
       "      <td>1.000000</td>\n",
       "      <td>1.000000</td>\n",
       "      <td>1.000000</td>\n",
       "      <td>1.000000</td>\n",
       "      <td>1.000000</td>\n",
       "      <td>1.000000</td>\n",
       "      <td>1.000000</td>\n",
       "      <td>1.000000</td>\n",
       "      <td>1.000000</td>\n",
       "      <td>1.000000</td>\n",
       "      <td>1.000000</td>\n",
       "      <td>1.000000</td>\n",
       "      <td>1.000000</td>\n",
       "      <td>1.000000</td>\n",
       "      <td>1.000000</td>\n",
       "      <td>21.000000</td>\n",
       "      <td>3.000000</td>\n",
       "      <td>6.000000</td>\n",
       "    </tr>\n",
       "  </tbody>\n",
       "</table>\n",
       "</div>"
      ],
      "text/plain": [
       "                0            1            2            3            4   \\\n",
       "count  6311.000000  6311.000000  6311.000000  6311.000000  6311.000000   \n",
       "mean      0.144040     0.026131     0.540210     0.275926     0.000475   \n",
       "std       0.832931     0.709548     1.305772     1.044356     0.021799   \n",
       "min      -0.967726    -1.859206    -1.620779    -1.449190     0.000000   \n",
       "25%      -0.419355    -0.454874    -0.132468    -0.410898     0.000000   \n",
       "50%       0.000000     0.000000     0.000000     0.000000     0.000000   \n",
       "75%       0.580645     0.545126     0.867532     0.589102     0.000000   \n",
       "max      23.225806     2.552347     6.119481     5.891016     1.000000   \n",
       "\n",
       "                5            6            7            8            9   \\\n",
       "count  6311.000000  6311.000000  6311.000000  6311.000000  6311.000000   \n",
       "mean      0.005071     0.014895     0.029155     0.008240     0.005229   \n",
       "std       0.071032     0.121141     0.168255     0.090405     0.072128   \n",
       "min       0.000000     0.000000     0.000000     0.000000     0.000000   \n",
       "25%       0.000000     0.000000     0.000000     0.000000     0.000000   \n",
       "50%       0.000000     0.000000     0.000000     0.000000     0.000000   \n",
       "75%       0.000000     0.000000     0.000000     0.000000     0.000000   \n",
       "max       1.000000     1.000000     1.000000     1.000000     1.000000   \n",
       "\n",
       "                10           11           12           13           14  \\\n",
       "count  6311.000000  6311.000000  6311.000000  6311.000000  6311.000000   \n",
       "mean      0.000792     0.049121     0.059103     0.171447     0.000634   \n",
       "std       0.028138     0.216137     0.235836     0.376929     0.025170   \n",
       "min       0.000000     0.000000     0.000000     0.000000     0.000000   \n",
       "25%       0.000000     0.000000     0.000000     0.000000     0.000000   \n",
       "50%       0.000000     0.000000     0.000000     0.000000     0.000000   \n",
       "75%       0.000000     0.000000     0.000000     0.000000     0.000000   \n",
       "max       1.000000     1.000000     1.000000     1.000000     1.000000   \n",
       "\n",
       "                15           16           17           18           19  \\\n",
       "count  6311.000000  6311.000000  6311.000000  6311.000000  6311.000000   \n",
       "mean      0.009032     0.003961     0.000475     0.000634     0.004278   \n",
       "std       0.094613     0.062819     0.021799     0.025170     0.065273   \n",
       "min       0.000000     0.000000     0.000000     0.000000     0.000000   \n",
       "25%       0.000000     0.000000     0.000000     0.000000     0.000000   \n",
       "50%       0.000000     0.000000     0.000000     0.000000     0.000000   \n",
       "75%       0.000000     0.000000     0.000000     0.000000     0.000000   \n",
       "max       1.000000     1.000000     1.000000     1.000000     1.000000   \n",
       "\n",
       "                20           21           22           23           24  \\\n",
       "count  6311.000000  6311.000000  6311.000000  6311.000000  6311.000000   \n",
       "mean      0.095864     0.300111     0.006497     0.001743     0.010299   \n",
       "std       0.294428     0.458342     0.080346     0.041716     0.100970   \n",
       "min       0.000000     0.000000     0.000000     0.000000     0.000000   \n",
       "25%       0.000000     0.000000     0.000000     0.000000     0.000000   \n",
       "50%       0.000000     0.000000     0.000000     0.000000     0.000000   \n",
       "75%       0.000000     1.000000     0.000000     0.000000     0.000000   \n",
       "max       1.000000     1.000000     1.000000     1.000000     1.000000   \n",
       "\n",
       "                25           26           27           28           29  \\\n",
       "count  6311.000000  6311.000000  6311.000000  6311.000000  6311.000000   \n",
       "mean      0.000951     0.028839     0.013152     0.090952     0.057360   \n",
       "std       0.030822     0.167366     0.113933     0.287564     0.232548   \n",
       "min       0.000000     0.000000     0.000000     0.000000     0.000000   \n",
       "25%       0.000000     0.000000     0.000000     0.000000     0.000000   \n",
       "50%       0.000000     0.000000     0.000000     0.000000     0.000000   \n",
       "75%       0.000000     0.000000     0.000000     0.000000     0.000000   \n",
       "max       1.000000     1.000000     1.000000     1.000000     1.000000   \n",
       "\n",
       "                30           31           32           33           34  \\\n",
       "count  6311.000000  6311.000000  6311.000000  6311.000000  6311.000000   \n",
       "mean      0.023134     0.008556     0.006497     0.543179     0.004595   \n",
       "std       0.150342     0.092112     0.080346     0.498172     0.067637   \n",
       "min       0.000000     0.000000     0.000000     0.000000     0.000000   \n",
       "25%       0.000000     0.000000     0.000000     0.000000     0.000000   \n",
       "50%       0.000000     0.000000     0.000000     1.000000     0.000000   \n",
       "75%       0.000000     0.000000     0.000000     1.000000     0.000000   \n",
       "max       1.000000     1.000000     1.000000     1.000000     1.000000   \n",
       "\n",
       "                35           36           37           38           39  \\\n",
       "count  6311.000000  6311.000000  6311.000000  6311.000000  6311.000000   \n",
       "mean      0.445730     0.140073     0.830296     0.029631     0.130566   \n",
       "std       0.497085     0.347090     0.375402     0.169580     0.336951   \n",
       "min       0.000000     0.000000     0.000000     0.000000     0.000000   \n",
       "25%       0.000000     0.000000     1.000000     0.000000     0.000000   \n",
       "50%       0.000000     0.000000     1.000000     0.000000     0.000000   \n",
       "75%       1.000000     0.000000     1.000000     0.000000     0.000000   \n",
       "max       1.000000     1.000000     1.000000     1.000000     1.000000   \n",
       "\n",
       "                40           41           42           43  \n",
       "count  6311.000000  6311.000000  6311.000000  6311.000000  \n",
       "mean      0.869434     6.006972     0.434638     1.423071  \n",
       "std       0.336951     3.856287     0.702135     0.958274  \n",
       "min       0.000000     0.000000     0.000000     0.000000  \n",
       "25%       1.000000     3.000000     0.000000     1.000000  \n",
       "50%       1.000000     5.000000     0.000000     1.000000  \n",
       "75%       1.000000     8.000000     1.000000     1.000000  \n",
       "max       1.000000    21.000000     3.000000     6.000000  "
      ]
     },
     "execution_count": 41,
     "metadata": {},
     "output_type": "execute_result"
    }
   ],
   "source": [
    "# Checking that endoding categorical variables worked\n",
    "# Checking that RobustScaler set median values for continuous variables to 0\n",
    "check_df = pd.DataFrame(X_train)\n",
    "pd.set_option('display.max_columns', 85)\n",
    "check_df.describe()"
   ]
  },
  {
   "cell_type": "code",
   "execution_count": 42,
   "id": "c8940706",
   "metadata": {},
   "outputs": [
    {
     "name": "stdout",
     "output_type": "stream",
     "text": [
      "[0, 1, 2, 3, 4, 5, 6, 7, 8, 9, 10, 11, 12, 13, 14, 15, 16, 17, 18, 19, 20, 21]\n",
      "['First Owner', 'Second Owner', 'Third Owner', 'Fourth & Above Owner']\n",
      "[4, 5, 6, 7, 8, 9, 10]\n"
     ]
    }
   ],
   "source": [
    "# Checking that ordinal encoder used the correct categories\n",
    "for i in oe.categories:\n",
    "    print(i)"
   ]
  },
  {
   "cell_type": "markdown",
   "id": "f8ef480f",
   "metadata": {},
   "source": [
    "## 5. Model Building"
   ]
  },
  {
   "cell_type": "markdown",
   "id": "ecc0404e",
   "metadata": {},
   "source": [
    "The section below details the model building steps. Different regression algorithms will be utilized to identify the best model that will be able to predict used car prices most accurately from the test set. The algorithms tested in this analysis are:\n",
    ">1. Linear Regression\n",
    "2. Ridge\n",
    "3. Lasso\n",
    "4. Elastic-Net\n",
    "5. Decision Tree\n",
    "6. Random Forest\n",
    "7. XGBoost\n",
    "8. LightGBM\n",
    "The performance of each algorithm will be evaluated with a five-fold cross-validation negative mean absolute error score (the mean score of the five folds will be taken).\n",
    "\n",
    "Firstly, the algorithms will be tested without any hyperparameter tuning to provide baseline scores with default values. This is so that tuned model scores can be compared against the baseline to understand how much of an improvement the hyperparameter tuning makes.\n",
    "\n",
    "Then, the optimal hyperparameters for each model will be found using a Grid Search or Randomized Search which is likely to increase the overall performance.\n",
    "\n",
    "Finally, a Voting Regressor will be used to combine a selection of different regressors to balance out their individual weaknesses and produce an overall higher-performing model."
   ]
  },
  {
   "cell_type": "markdown",
   "id": "c597153a",
   "metadata": {},
   "source": [
    "#### Baseline Models"
   ]
  },
  {
   "cell_type": "code",
   "execution_count": 43,
   "id": "16c92af5",
   "metadata": {
    "scrolled": false
   },
   "outputs": [],
   "source": [
    "from sklearn.linear_model import LinearRegression, Ridge, Lasso, ElasticNet\n",
    "from sklearn.tree import DecisionTreeRegressor\n",
    "from sklearn.ensemble import RandomForestRegressor\n",
    "from xgboost import XGBRegressor\n",
    "from lightgbm import LGBMRegressor\n",
    "from sklearn.model_selection import cross_val_score, KFold\n",
    "\n",
    "\n",
    "import warnings\n",
    "warnings.filterwarnings('ignore')"
   ]
  },
  {
   "cell_type": "code",
   "execution_count": 44,
   "id": "f3afe948",
   "metadata": {
    "scrolled": false
   },
   "outputs": [],
   "source": [
    "# Defining cross-validation parameters\n",
    "cv = KFold(5, shuffle=True, random_state=42)"
   ]
  },
  {
   "cell_type": "code",
   "execution_count": 45,
   "id": "dee7e359",
   "metadata": {},
   "outputs": [],
   "source": [
    "# Initializing regressors in list\n",
    "regressors = [\n",
    "    LinearRegression(),\n",
    "    Ridge(),\n",
    "    Lasso(),\n",
    "    ElasticNet(),\n",
    "    DecisionTreeRegressor(random_state=42),\n",
    "    RandomForestRegressor(random_state=42),\n",
    "    XGBRegressor(random_state=42),\n",
    "    LGBMRegressor(random_state=42),\n",
    "]"
   ]
  },
  {
   "cell_type": "code",
   "execution_count": 46,
   "id": "948514c6",
   "metadata": {},
   "outputs": [
    {
     "data": {
      "text/html": [
       "<div>\n",
       "<style scoped>\n",
       "    .dataframe tbody tr th:only-of-type {\n",
       "        vertical-align: middle;\n",
       "    }\n",
       "\n",
       "    .dataframe tbody tr th {\n",
       "        vertical-align: top;\n",
       "    }\n",
       "\n",
       "    .dataframe thead th {\n",
       "        text-align: right;\n",
       "    }\n",
       "</style>\n",
       "<table border=\"1\" class=\"dataframe\">\n",
       "  <thead>\n",
       "    <tr style=\"text-align: right;\">\n",
       "      <th></th>\n",
       "      <th>Model</th>\n",
       "      <th>Baseline Score</th>\n",
       "    </tr>\n",
       "  </thead>\n",
       "  <tbody>\n",
       "    <tr>\n",
       "      <th>0</th>\n",
       "      <td>LinearRegression</td>\n",
       "      <td>-161115.789</td>\n",
       "    </tr>\n",
       "    <tr>\n",
       "      <th>1</th>\n",
       "      <td>Ridge</td>\n",
       "      <td>-163841.045</td>\n",
       "    </tr>\n",
       "    <tr>\n",
       "      <th>2</th>\n",
       "      <td>Lasso</td>\n",
       "      <td>-161122.573</td>\n",
       "    </tr>\n",
       "    <tr>\n",
       "      <th>3</th>\n",
       "      <td>ElasticNet</td>\n",
       "      <td>-254251.776</td>\n",
       "    </tr>\n",
       "    <tr>\n",
       "      <th>4</th>\n",
       "      <td>DecisionTreeRegressor</td>\n",
       "      <td>-80298.379</td>\n",
       "    </tr>\n",
       "    <tr>\n",
       "      <th>5</th>\n",
       "      <td>RandomForestRegressor</td>\n",
       "      <td>-68049.646</td>\n",
       "    </tr>\n",
       "    <tr>\n",
       "      <th>6</th>\n",
       "      <td>XGBRegressor</td>\n",
       "      <td>-65684.774</td>\n",
       "    </tr>\n",
       "    <tr>\n",
       "      <th>7</th>\n",
       "      <td>LGBMRegressor</td>\n",
       "      <td>-72412.250</td>\n",
       "    </tr>\n",
       "  </tbody>\n",
       "</table>\n",
       "</div>"
      ],
      "text/plain": [
       "                   Model  Baseline Score\n",
       "0       LinearRegression     -161115.789\n",
       "1                  Ridge     -163841.045\n",
       "2                  Lasso     -161122.573\n",
       "3             ElasticNet     -254251.776\n",
       "4  DecisionTreeRegressor      -80298.379\n",
       "5  RandomForestRegressor      -68049.646\n",
       "6           XGBRegressor      -65684.774\n",
       "7          LGBMRegressor      -72412.250"
      ]
     },
     "execution_count": 46,
     "metadata": {},
     "output_type": "execute_result"
    }
   ],
   "source": [
    "# Creating a list of baseline cross-validation scores\n",
    "baseline_scores = [round(cross_val_score(i, X_train, y_train, cv=cv, scoring='neg_mean_absolute_error').mean(), 3) for i in regressors]\n",
    "\n",
    "# Creating a list of classifier names\n",
    "names = [i.__class__.__name__ for i in regressors]\n",
    "\n",
    "# Creating a dataframe of the results\n",
    "results = pd.DataFrame({'Model': names, 'Baseline Score': baseline_scores})\n",
    "results"
   ]
  },
  {
   "cell_type": "markdown",
   "id": "300ed17c",
   "metadata": {},
   "source": [
    "As expected, the linear models do not perform as well as the ensemble methods. The baseline results in the table above appear promising and the following section of the analysis will implement hyperparameter tuning to improve these cross-validation scores."
   ]
  },
  {
   "cell_type": "markdown",
   "id": "35977944",
   "metadata": {},
   "source": [
    "#### Hyperparameter Tuning"
   ]
  },
  {
   "cell_type": "markdown",
   "id": "9ae3284c",
   "metadata": {},
   "source": [
    "Grid Search and Randomized Search will be used to find the optimal values for hyperparameters of each of the algorithms tested above. Although an exhaustive grid search of every possible value for each hyperparameter would produce the most accurate model, that is a computationallly expensive process and will not be used in this analysis due to limitations with computational power. However, a reasonable range of values will still be tested and it is likely to improve the model nonetheless. Randomized Search with fifty iterations will be used for XGBoost and LightGBM as they are slower models and a Grid Search would require too much time."
   ]
  },
  {
   "cell_type": "code",
   "execution_count": 47,
   "id": "6f51a198",
   "metadata": {},
   "outputs": [],
   "source": [
    "from sklearn.model_selection import GridSearchCV\n",
    "from sklearn.model_selection import RandomizedSearchCV"
   ]
  },
  {
   "cell_type": "code",
   "execution_count": 48,
   "id": "6c19a9a1",
   "metadata": {},
   "outputs": [
    {
     "name": "stdout",
     "output_type": "stream",
     "text": [
      "{}\n",
      "-161115.78895396506\n"
     ]
    }
   ],
   "source": [
    "# No tuning required for linear regression\n",
    "\n",
    "lrg_grid = GridSearchCV(regressors[0], {}, cv=cv, scoring='neg_mean_absolute_error', n_jobs=-1)\n",
    "\n",
    "lrg_grid.fit(X_train, y_train)\n",
    "\n",
    "print(lrg_grid.best_params_)\n",
    "print(lrg_grid.best_score_)\n"
   ]
  },
  {
   "cell_type": "code",
   "execution_count": 49,
   "id": "9708c1e1",
   "metadata": {},
   "outputs": [
    {
     "name": "stdout",
     "output_type": "stream",
     "text": [
      "{'alpha': 0.1, 'solver': 'cholesky'}\n",
      "-161383.38413431874\n"
     ]
    }
   ],
   "source": [
    "# Tuning Ridge\n",
    "\n",
    "rdg_params = {\n",
    "    'alpha': np.arange(0, 10, 0.1),\n",
    "    'solver': ['svd', 'cholesky', 'lsqr', 'saga']\n",
    "}\n",
    "\n",
    "rdg_grid = GridSearchCV(regressors[1], rdg_params, cv=cv, scoring='neg_mean_absolute_error', n_jobs=-1)\n",
    "\n",
    "rdg_grid.fit(X_train, y_train)\n",
    "\n",
    "print(rdg_grid.best_params_)\n",
    "print(rdg_grid.best_score_)"
   ]
  },
  {
   "cell_type": "code",
   "execution_count": 50,
   "id": "caeddbcc",
   "metadata": {},
   "outputs": [
    {
     "name": "stdout",
     "output_type": "stream",
     "text": [
      "{'alpha': 0.0}\n",
      "-161115.78895396442\n"
     ]
    }
   ],
   "source": [
    "# Tuning Lasso\n",
    "\n",
    "lss_params = {\n",
    "    'alpha': np.arange(0, 10, 0.1)\n",
    "}\n",
    "\n",
    "lss_grid = GridSearchCV(regressors[2], lss_params, cv=cv, scoring='neg_mean_absolute_error', n_jobs=-1)\n",
    "\n",
    "lss_grid.fit(X_train, y_train)\n",
    "\n",
    "print(lss_grid.best_params_)\n",
    "print(lss_grid.best_score_)"
   ]
  },
  {
   "cell_type": "code",
   "execution_count": 51,
   "id": "a38ba15b",
   "metadata": {},
   "outputs": [
    {
     "name": "stdout",
     "output_type": "stream",
     "text": [
      "{'alpha': 0.0, 'l1_ratio': 0.0}\n",
      "-161115.78895396442\n"
     ]
    }
   ],
   "source": [
    "# Tuning Elastic Net\n",
    "\n",
    "eln_params = {\n",
    "    'alpha': np.arange(0, 10, 0.1),\n",
    "    'l1_ratio': np.arange(0, 1, 0.1)\n",
    "}\n",
    "\n",
    "eln_grid = GridSearchCV(regressors[3], eln_params, cv=cv, scoring='neg_mean_absolute_error', n_jobs=-1)\n",
    "\n",
    "eln_grid.fit(X_train, y_train)\n",
    "\n",
    "print(eln_grid.best_params_)\n",
    "print(eln_grid.best_score_)"
   ]
  },
  {
   "cell_type": "code",
   "execution_count": 52,
   "id": "5b5e04d3",
   "metadata": {},
   "outputs": [
    {
     "name": "stdout",
     "output_type": "stream",
     "text": [
      "{'criterion': 'mse', 'max_features': None}\n",
      "-80298.37878649573\n"
     ]
    }
   ],
   "source": [
    "# Tuning Decision Tree\n",
    "\n",
    "dtr_params = {\n",
    "    'criterion': ['mse', 'friedman_mse', 'mae', 'poisson'],\n",
    "    'max_features': ['sqrt', 'log2', None]\n",
    "}\n",
    "\n",
    "dtr_grid = GridSearchCV(regressors[4], dtr_params, cv=cv, scoring='neg_mean_absolute_error', n_jobs=-1)\n",
    "\n",
    "dtr_grid.fit(X_train, y_train)\n",
    "\n",
    "print(dtr_grid.best_params_)\n",
    "print(dtr_grid.best_score_)"
   ]
  },
  {
   "cell_type": "code",
   "execution_count": 53,
   "id": "e785857d",
   "metadata": {},
   "outputs": [
    {
     "name": "stdout",
     "output_type": "stream",
     "text": [
      "{'max_features': None, 'n_estimators': 400}\n",
      "-67993.69767861594\n"
     ]
    }
   ],
   "source": [
    "# Tuning Random Forest\n",
    "\n",
    "rfr_params = {\n",
    "    'n_estimators': np.arange(100, 2001, 100),\n",
    "    'max_features': ['sqrt', 'log2', None]\n",
    "}\n",
    "\n",
    "rfr_grid = GridSearchCV(regressors[5], rfr_params, cv=cv, scoring='neg_mean_absolute_error', n_jobs=-1)\n",
    "\n",
    "rfr_grid.fit(X_train, y_train)\n",
    "\n",
    "print(rfr_grid.best_params_)\n",
    "print(rfr_grid.best_score_)"
   ]
  },
  {
   "cell_type": "code",
   "execution_count": 54,
   "id": "60305771",
   "metadata": {},
   "outputs": [
    {
     "name": "stdout",
     "output_type": "stream",
     "text": [
      "{'n_estimators': 660, 'min_child_weight': 1.0, 'max_depth': 9, 'learning_rate': 0.1, 'gamma': 1, 'colsample_bytree': 0.7}\n",
      "-63134.72837879771\n"
     ]
    }
   ],
   "source": [
    "# Tuning XGBoost\n",
    "\n",
    "xgb_params = {\n",
    "    'n_estimators': np.arange(100, 2001, 10),\n",
    "    'max_depth': np.arange(3, 16, 1),\n",
    "    'learning_rate': np.arange(0, 1, 0.1),\n",
    "    'gamma': [0.5, 1, 2],\n",
    "    'min_child_weight': np.arange(0, 2.1, 0.5),\n",
    "    'colsample_bytree': [0.3, 0.5, 0.7]\n",
    "}\n",
    "\n",
    "xgb_grid = RandomizedSearchCV(regressors[6], xgb_params, cv=cv, scoring='neg_mean_absolute_error', n_iter=50, random_state=0, n_jobs=-1)\n",
    "\n",
    "xgb_grid.fit(X_train, y_train)\n",
    "\n",
    "print(xgb_grid.best_params_)\n",
    "print(xgb_grid.best_score_)"
   ]
  },
  {
   "cell_type": "code",
   "execution_count": 55,
   "id": "745a6c75",
   "metadata": {},
   "outputs": [
    {
     "name": "stdout",
     "output_type": "stream",
     "text": [
      "{'n_estimators': 870, 'min_child_weight': 2.0, 'max_depth': 11, 'learning_rate': 0.30000000000000004, 'boosting_type': 'dart'}\n",
      "-64396.625407603395\n"
     ]
    }
   ],
   "source": [
    "# Tuning LightGBM\n",
    "\n",
    "lgb_params = {\n",
    "    'boosting_type': ['gbdt', 'dart'],\n",
    "    'max_depth': np.arange(3, 16, 1),\n",
    "    'learning_rate': np.arange(0, 1, 0.1),\n",
    "    'n_estimators': np.arange(100, 2001, 10),\n",
    "    'min_child_weight': np.arange(0, 2.1, 0.5)\n",
    "}\n",
    "\n",
    "\n",
    "lgb_grid = RandomizedSearchCV(regressors[7], lgb_params, cv=cv, scoring='neg_mean_absolute_error', n_iter=50, random_state=0, n_jobs=-1)\n",
    "\n",
    "lgb_grid.fit(X_train, y_train)\n",
    "\n",
    "print(lgb_grid.best_params_)\n",
    "print(lgb_grid.best_score_)"
   ]
  },
  {
   "cell_type": "code",
   "execution_count": 56,
   "id": "1b32ac00",
   "metadata": {},
   "outputs": [
    {
     "data": {
      "text/html": [
       "<div>\n",
       "<style scoped>\n",
       "    .dataframe tbody tr th:only-of-type {\n",
       "        vertical-align: middle;\n",
       "    }\n",
       "\n",
       "    .dataframe tbody tr th {\n",
       "        vertical-align: top;\n",
       "    }\n",
       "\n",
       "    .dataframe thead th {\n",
       "        text-align: right;\n",
       "    }\n",
       "</style>\n",
       "<table border=\"1\" class=\"dataframe\">\n",
       "  <thead>\n",
       "    <tr style=\"text-align: right;\">\n",
       "      <th></th>\n",
       "      <th>Model</th>\n",
       "      <th>Baseline Score</th>\n",
       "      <th>Tuned Score</th>\n",
       "    </tr>\n",
       "  </thead>\n",
       "  <tbody>\n",
       "    <tr>\n",
       "      <th>0</th>\n",
       "      <td>LinearRegression</td>\n",
       "      <td>-161115.789</td>\n",
       "      <td>-161115.789</td>\n",
       "    </tr>\n",
       "    <tr>\n",
       "      <th>1</th>\n",
       "      <td>Ridge</td>\n",
       "      <td>-163841.045</td>\n",
       "      <td>-161383.384</td>\n",
       "    </tr>\n",
       "    <tr>\n",
       "      <th>2</th>\n",
       "      <td>Lasso</td>\n",
       "      <td>-161122.573</td>\n",
       "      <td>-161115.789</td>\n",
       "    </tr>\n",
       "    <tr>\n",
       "      <th>3</th>\n",
       "      <td>ElasticNet</td>\n",
       "      <td>-254251.776</td>\n",
       "      <td>-161115.789</td>\n",
       "    </tr>\n",
       "    <tr>\n",
       "      <th>4</th>\n",
       "      <td>DecisionTreeRegressor</td>\n",
       "      <td>-80298.379</td>\n",
       "      <td>-80298.379</td>\n",
       "    </tr>\n",
       "    <tr>\n",
       "      <th>5</th>\n",
       "      <td>RandomForestRegressor</td>\n",
       "      <td>-68049.646</td>\n",
       "      <td>-67993.698</td>\n",
       "    </tr>\n",
       "    <tr>\n",
       "      <th>6</th>\n",
       "      <td>XGBRegressor</td>\n",
       "      <td>-65684.774</td>\n",
       "      <td>-63134.728</td>\n",
       "    </tr>\n",
       "    <tr>\n",
       "      <th>7</th>\n",
       "      <td>LGBMRegressor</td>\n",
       "      <td>-72412.250</td>\n",
       "      <td>-64396.625</td>\n",
       "    </tr>\n",
       "  </tbody>\n",
       "</table>\n",
       "</div>"
      ],
      "text/plain": [
       "                   Model  Baseline Score  Tuned Score\n",
       "0       LinearRegression     -161115.789  -161115.789\n",
       "1                  Ridge     -163841.045  -161383.384\n",
       "2                  Lasso     -161122.573  -161115.789\n",
       "3             ElasticNet     -254251.776  -161115.789\n",
       "4  DecisionTreeRegressor      -80298.379   -80298.379\n",
       "5  RandomForestRegressor      -68049.646   -67993.698\n",
       "6           XGBRegressor      -65684.774   -63134.728\n",
       "7          LGBMRegressor      -72412.250   -64396.625"
      ]
     },
     "execution_count": 56,
     "metadata": {},
     "output_type": "execute_result"
    }
   ],
   "source": [
    "# Comparing tuned scores with baseline scores\n",
    "\n",
    "grid_names = [\n",
    "    lrg_grid,\n",
    "    rdg_grid,\n",
    "    lss_grid,\n",
    "    eln_grid,\n",
    "    dtr_grid,\n",
    "    rfr_grid,\n",
    "    xgb_grid,\n",
    "    lgb_grid   \n",
    "]\n",
    "\n",
    "tuned_scores = [round(i.best_score_, 3) for i in grid_names]\n",
    "\n",
    "results['Tuned Score'] = tuned_scores\n",
    "\n",
    "results"
   ]
  },
  {
   "cell_type": "markdown",
   "id": "1387468d",
   "metadata": {},
   "source": [
    "Hyperparameter tuning has resulted in an improvement in the scores for every model tested (with the exception on Linear Regression which did not require tuning). The scores could be further improved with greater computational power, allowing a grid search of a larger range of values to be completed in a shorter amount of time."
   ]
  },
  {
   "cell_type": "markdown",
   "id": "b18ce17d",
   "metadata": {},
   "source": [
    "#### Voting Regressor"
   ]
  },
  {
   "cell_type": "markdown",
   "id": "f2e97b9d",
   "metadata": {},
   "source": [
    "In the following section, a Voting Regressor will be used to ensemble a selection of the better performing models tested above to balance out their individual weaknesses and produce an overall higher-performing model.\n",
    "\n",
    "The three best models - Random Forest, XGBoost and LightGBM - will be ensembled."
   ]
  },
  {
   "cell_type": "code",
   "execution_count": 57,
   "id": "2ac10b74",
   "metadata": {},
   "outputs": [],
   "source": [
    "from sklearn.ensemble import VotingRegressor"
   ]
  },
  {
   "cell_type": "code",
   "execution_count": 58,
   "id": "98c719ca",
   "metadata": {},
   "outputs": [
    {
     "data": {
      "text/plain": [
       "-62755.633"
      ]
     },
     "execution_count": 58,
     "metadata": {},
     "output_type": "execute_result"
    }
   ],
   "source": [
    "# Baseline Voting Regressor\n",
    "\n",
    "rfr = rfr_grid.best_estimator_\n",
    "xgb = xgb_grid.best_estimator_\n",
    "lgb = lgb_grid.best_estimator_\n",
    "\n",
    "vr = VotingRegressor([('rfr', rfr), ('xgb', xgb), ('lgb', lgb)], n_jobs=-1)\n",
    "\n",
    "voting_score = round(cross_val_score(vr, X_train, y_train, cv=cv, scoring='neg_mean_absolute_error').mean(), 3)\n",
    "\n",
    "voting_score"
   ]
  },
  {
   "cell_type": "code",
   "execution_count": 59,
   "id": "929ef7e6",
   "metadata": {},
   "outputs": [
    {
     "data": {
      "text/html": [
       "<div>\n",
       "<style scoped>\n",
       "    .dataframe tbody tr th:only-of-type {\n",
       "        vertical-align: middle;\n",
       "    }\n",
       "\n",
       "    .dataframe tbody tr th {\n",
       "        vertical-align: top;\n",
       "    }\n",
       "\n",
       "    .dataframe thead th {\n",
       "        text-align: right;\n",
       "    }\n",
       "</style>\n",
       "<table border=\"1\" class=\"dataframe\">\n",
       "  <thead>\n",
       "    <tr style=\"text-align: right;\">\n",
       "      <th></th>\n",
       "      <th>Model</th>\n",
       "      <th>Baseline Score</th>\n",
       "      <th>Tuned Score</th>\n",
       "    </tr>\n",
       "  </thead>\n",
       "  <tbody>\n",
       "    <tr>\n",
       "      <th>0</th>\n",
       "      <td>LinearRegression</td>\n",
       "      <td>-161115.789</td>\n",
       "      <td>-161115.789</td>\n",
       "    </tr>\n",
       "    <tr>\n",
       "      <th>1</th>\n",
       "      <td>Ridge</td>\n",
       "      <td>-163841.045</td>\n",
       "      <td>-161383.384</td>\n",
       "    </tr>\n",
       "    <tr>\n",
       "      <th>2</th>\n",
       "      <td>Lasso</td>\n",
       "      <td>-161122.573</td>\n",
       "      <td>-161115.789</td>\n",
       "    </tr>\n",
       "    <tr>\n",
       "      <th>3</th>\n",
       "      <td>ElasticNet</td>\n",
       "      <td>-254251.776</td>\n",
       "      <td>-161115.789</td>\n",
       "    </tr>\n",
       "    <tr>\n",
       "      <th>4</th>\n",
       "      <td>DecisionTreeRegressor</td>\n",
       "      <td>-80298.379</td>\n",
       "      <td>-80298.379</td>\n",
       "    </tr>\n",
       "    <tr>\n",
       "      <th>5</th>\n",
       "      <td>RandomForestRegressor</td>\n",
       "      <td>-68049.646</td>\n",
       "      <td>-67993.698</td>\n",
       "    </tr>\n",
       "    <tr>\n",
       "      <th>6</th>\n",
       "      <td>XGBRegressor</td>\n",
       "      <td>-65684.774</td>\n",
       "      <td>-63134.728</td>\n",
       "    </tr>\n",
       "    <tr>\n",
       "      <th>7</th>\n",
       "      <td>LGBMRegressor</td>\n",
       "      <td>-72412.250</td>\n",
       "      <td>-64396.625</td>\n",
       "    </tr>\n",
       "    <tr>\n",
       "      <th>8</th>\n",
       "      <td>VotingRegressor</td>\n",
       "      <td>-62755.633</td>\n",
       "      <td>NaN</td>\n",
       "    </tr>\n",
       "  </tbody>\n",
       "</table>\n",
       "</div>"
      ],
      "text/plain": [
       "                   Model  Baseline Score  Tuned Score\n",
       "0       LinearRegression     -161115.789  -161115.789\n",
       "1                  Ridge     -163841.045  -161383.384\n",
       "2                  Lasso     -161122.573  -161115.789\n",
       "3             ElasticNet     -254251.776  -161115.789\n",
       "4  DecisionTreeRegressor      -80298.379   -80298.379\n",
       "5  RandomForestRegressor      -68049.646   -67993.698\n",
       "6           XGBRegressor      -65684.774   -63134.728\n",
       "7          LGBMRegressor      -72412.250   -64396.625\n",
       "8        VotingRegressor      -62755.633          NaN"
      ]
     },
     "execution_count": 59,
     "metadata": {},
     "output_type": "execute_result"
    }
   ],
   "source": [
    "results = results.append({'Model': vr.__class__.__name__, 'Baseline Score': voting_score}, ignore_index=True)\n",
    "results"
   ]
  },
  {
   "cell_type": "markdown",
   "id": "6fd9eda2",
   "metadata": {},
   "source": [
    "The weighting of each of the models in the ensemble can also be tuned with a grid search to understand if certain models should be emphasized more than others."
   ]
  },
  {
   "cell_type": "code",
   "execution_count": 60,
   "id": "2deea9ab",
   "metadata": {},
   "outputs": [
    {
     "name": "stdout",
     "output_type": "stream",
     "text": [
      "{'weights': (1, 2, 1)}\n",
      "-62391.96819924151\n"
     ]
    }
   ],
   "source": [
    "# Tuning Voting Regressor\n",
    "\n",
    "vr_params = {\n",
    "    'weights': [(1, 1, 1),\n",
    "                (2, 1, 1),\n",
    "                (1, 2, 1),\n",
    "                (1, 1, 2)\n",
    "               ]}\n",
    "\n",
    "vr_grid = GridSearchCV(vr, vr_params, cv=cv, scoring='neg_mean_absolute_error', n_jobs=-1)\n",
    "\n",
    "vr_grid.fit(X_train, y_train)\n",
    "\n",
    "print(vr_grid.best_params_)\n",
    "print(vr_grid.best_score_)"
   ]
  },
  {
   "cell_type": "code",
   "execution_count": 61,
   "id": "96c58e8e",
   "metadata": {
    "scrolled": true
   },
   "outputs": [
    {
     "data": {
      "text/html": [
       "<style type=\"text/css\">\n",
       "#T_0ff85_row8_col2 {\n",
       "  background-color: lightgreen;\n",
       "}\n",
       "</style>\n",
       "<table id=\"T_0ff85_\">\n",
       "  <thead>\n",
       "    <tr>\n",
       "      <th class=\"blank level0\" >&nbsp;</th>\n",
       "      <th class=\"col_heading level0 col0\" >Model</th>\n",
       "      <th class=\"col_heading level0 col1\" >Baseline Score</th>\n",
       "      <th class=\"col_heading level0 col2\" >Tuned Score</th>\n",
       "    </tr>\n",
       "  </thead>\n",
       "  <tbody>\n",
       "    <tr>\n",
       "      <th id=\"T_0ff85_level0_row0\" class=\"row_heading level0 row0\" >0</th>\n",
       "      <td id=\"T_0ff85_row0_col0\" class=\"data row0 col0\" >LinearRegression</td>\n",
       "      <td id=\"T_0ff85_row0_col1\" class=\"data row0 col1\" >-161115.789000</td>\n",
       "      <td id=\"T_0ff85_row0_col2\" class=\"data row0 col2\" >-161115.789000</td>\n",
       "    </tr>\n",
       "    <tr>\n",
       "      <th id=\"T_0ff85_level0_row1\" class=\"row_heading level0 row1\" >1</th>\n",
       "      <td id=\"T_0ff85_row1_col0\" class=\"data row1 col0\" >Ridge</td>\n",
       "      <td id=\"T_0ff85_row1_col1\" class=\"data row1 col1\" >-163841.045000</td>\n",
       "      <td id=\"T_0ff85_row1_col2\" class=\"data row1 col2\" >-161383.384000</td>\n",
       "    </tr>\n",
       "    <tr>\n",
       "      <th id=\"T_0ff85_level0_row2\" class=\"row_heading level0 row2\" >2</th>\n",
       "      <td id=\"T_0ff85_row2_col0\" class=\"data row2 col0\" >Lasso</td>\n",
       "      <td id=\"T_0ff85_row2_col1\" class=\"data row2 col1\" >-161122.573000</td>\n",
       "      <td id=\"T_0ff85_row2_col2\" class=\"data row2 col2\" >-161115.789000</td>\n",
       "    </tr>\n",
       "    <tr>\n",
       "      <th id=\"T_0ff85_level0_row3\" class=\"row_heading level0 row3\" >3</th>\n",
       "      <td id=\"T_0ff85_row3_col0\" class=\"data row3 col0\" >ElasticNet</td>\n",
       "      <td id=\"T_0ff85_row3_col1\" class=\"data row3 col1\" >-254251.776000</td>\n",
       "      <td id=\"T_0ff85_row3_col2\" class=\"data row3 col2\" >-161115.789000</td>\n",
       "    </tr>\n",
       "    <tr>\n",
       "      <th id=\"T_0ff85_level0_row4\" class=\"row_heading level0 row4\" >4</th>\n",
       "      <td id=\"T_0ff85_row4_col0\" class=\"data row4 col0\" >DecisionTreeRegressor</td>\n",
       "      <td id=\"T_0ff85_row4_col1\" class=\"data row4 col1\" >-80298.379000</td>\n",
       "      <td id=\"T_0ff85_row4_col2\" class=\"data row4 col2\" >-80298.379000</td>\n",
       "    </tr>\n",
       "    <tr>\n",
       "      <th id=\"T_0ff85_level0_row5\" class=\"row_heading level0 row5\" >5</th>\n",
       "      <td id=\"T_0ff85_row5_col0\" class=\"data row5 col0\" >RandomForestRegressor</td>\n",
       "      <td id=\"T_0ff85_row5_col1\" class=\"data row5 col1\" >-68049.646000</td>\n",
       "      <td id=\"T_0ff85_row5_col2\" class=\"data row5 col2\" >-67993.698000</td>\n",
       "    </tr>\n",
       "    <tr>\n",
       "      <th id=\"T_0ff85_level0_row6\" class=\"row_heading level0 row6\" >6</th>\n",
       "      <td id=\"T_0ff85_row6_col0\" class=\"data row6 col0\" >XGBRegressor</td>\n",
       "      <td id=\"T_0ff85_row6_col1\" class=\"data row6 col1\" >-65684.774000</td>\n",
       "      <td id=\"T_0ff85_row6_col2\" class=\"data row6 col2\" >-63134.728000</td>\n",
       "    </tr>\n",
       "    <tr>\n",
       "      <th id=\"T_0ff85_level0_row7\" class=\"row_heading level0 row7\" >7</th>\n",
       "      <td id=\"T_0ff85_row7_col0\" class=\"data row7 col0\" >LGBMRegressor</td>\n",
       "      <td id=\"T_0ff85_row7_col1\" class=\"data row7 col1\" >-72412.250000</td>\n",
       "      <td id=\"T_0ff85_row7_col2\" class=\"data row7 col2\" >-64396.625000</td>\n",
       "    </tr>\n",
       "    <tr>\n",
       "      <th id=\"T_0ff85_level0_row8\" class=\"row_heading level0 row8\" >8</th>\n",
       "      <td id=\"T_0ff85_row8_col0\" class=\"data row8 col0\" >VotingRegressor</td>\n",
       "      <td id=\"T_0ff85_row8_col1\" class=\"data row8 col1\" >-62755.633000</td>\n",
       "      <td id=\"T_0ff85_row8_col2\" class=\"data row8 col2\" >-62391.968000</td>\n",
       "    </tr>\n",
       "  </tbody>\n",
       "</table>\n"
      ],
      "text/plain": [
       "<pandas.io.formats.style.Styler at 0x152cf041fc8>"
      ]
     },
     "execution_count": 61,
     "metadata": {},
     "output_type": "execute_result"
    }
   ],
   "source": [
    "results.iloc[8,2] = round(vr_grid.best_score_, 3)\n",
    "results.style.highlight_max(subset='Tuned Score', color='lightgreen')"
   ]
  },
  {
   "cell_type": "markdown",
   "id": "d4a1c40a",
   "metadata": {},
   "source": [
    "An tuned ensemble of Random Forest, XGBoost and LightGBM regressors using Voting Regressor with XGBoost carrying double the weighting was able to improve the overall model score to become the best-performing model with the lowest mean absolute error.\n",
    "\n",
    "This model will be used in the following sections to generate predictions of used car prices from the test set."
   ]
  },
  {
   "cell_type": "markdown",
   "id": "c8a27317",
   "metadata": {},
   "source": [
    "#### Results"
   ]
  },
  {
   "cell_type": "markdown",
   "id": "67f5169c",
   "metadata": {},
   "source": [
    "The three best-performing models in the cross-validation test above (XGBoost, LightGBM, Voting Regressor) will be used to predict used car prices using the test set in this section. The accuracy of the models will be evaluated using the following metrics:\n",
    "- Root Mean Squared Error (RMSE)\n",
    "- Mean Absolute Error (MAE)\n",
    "- Coefficient of Determination (R2)\n",
    "\n",
    "MAE is the average difference between the predicted used car prices and the actual used car prices and RMSE is the square root of the average of squared prediction errors. Both provide a meaure of the accuracy of the model in predicting the used car prices.\n",
    "\n",
    "R2 is the proportion of the variance in the target used car prices that can be explained by the features in the model, therefore providing a meaure of how well the model fits to the data."
   ]
  },
  {
   "cell_type": "code",
   "execution_count": 62,
   "id": "b587f9c0",
   "metadata": {},
   "outputs": [],
   "source": [
    "from sklearn import metrics"
   ]
  },
  {
   "cell_type": "code",
   "execution_count": 63,
   "id": "b92e1ab2",
   "metadata": {},
   "outputs": [],
   "source": [
    "best_models = [\n",
    "    xgb_grid,\n",
    "    lgb_grid,\n",
    "    vr_grid\n",
    "]\n",
    "\n",
    "predictors = [i.predict(X_test) for i in best_models]"
   ]
  },
  {
   "cell_type": "code",
   "execution_count": 64,
   "id": "5e6ab83e",
   "metadata": {},
   "outputs": [],
   "source": [
    "# RMSE\n",
    "rmse = [round(np.sqrt(metrics.mean_squared_error(y_test, i)), 2) for i in predictors]\n",
    "\n",
    "# MAE\n",
    "mae = [round(metrics.mean_absolute_error(y_test, i), 2) for i in predictors]\n",
    "\n",
    "# R2\n",
    "r2 = [round(metrics.r2_score(y_test, i), 3) for i in predictors]"
   ]
  },
  {
   "cell_type": "code",
   "execution_count": 65,
   "id": "a7161d6c",
   "metadata": {},
   "outputs": [
    {
     "data": {
      "text/html": [
       "<style type=\"text/css\">\n",
       "#T_dc26b_row2_col1, #T_dc26b_row2_col2, #T_dc26b_row2_col3 {\n",
       "  background-color: lightgreen;\n",
       "}\n",
       "</style>\n",
       "<table id=\"T_dc26b_\">\n",
       "  <thead>\n",
       "    <tr>\n",
       "      <th class=\"blank level0\" >&nbsp;</th>\n",
       "      <th class=\"col_heading level0 col0\" >Model</th>\n",
       "      <th class=\"col_heading level0 col1\" >RMSE</th>\n",
       "      <th class=\"col_heading level0 col2\" >MAE</th>\n",
       "      <th class=\"col_heading level0 col3\" >R2</th>\n",
       "    </tr>\n",
       "  </thead>\n",
       "  <tbody>\n",
       "    <tr>\n",
       "      <th id=\"T_dc26b_level0_row0\" class=\"row_heading level0 row0\" >0</th>\n",
       "      <td id=\"T_dc26b_row0_col0\" class=\"data row0 col0\" >XGBoost</td>\n",
       "      <td id=\"T_dc26b_row0_col1\" class=\"data row0 col1\" >210626.980000</td>\n",
       "      <td id=\"T_dc26b_row0_col2\" class=\"data row0 col2\" >88383.030000</td>\n",
       "      <td id=\"T_dc26b_row0_col3\" class=\"data row0 col3\" >0.934000</td>\n",
       "    </tr>\n",
       "    <tr>\n",
       "      <th id=\"T_dc26b_level0_row1\" class=\"row_heading level0 row1\" >1</th>\n",
       "      <td id=\"T_dc26b_row1_col0\" class=\"data row1 col0\" >LightGBM</td>\n",
       "      <td id=\"T_dc26b_row1_col1\" class=\"data row1 col1\" >243354.210000</td>\n",
       "      <td id=\"T_dc26b_row1_col2\" class=\"data row1 col2\" >90342.230000</td>\n",
       "      <td id=\"T_dc26b_row1_col3\" class=\"data row1 col3\" >0.912000</td>\n",
       "    </tr>\n",
       "    <tr>\n",
       "      <th id=\"T_dc26b_level0_row2\" class=\"row_heading level0 row2\" >2</th>\n",
       "      <td id=\"T_dc26b_row2_col0\" class=\"data row2 col0\" >VotingRegressor</td>\n",
       "      <td id=\"T_dc26b_row2_col1\" class=\"data row2 col1\" >207561.400000</td>\n",
       "      <td id=\"T_dc26b_row2_col2\" class=\"data row2 col2\" >83452.410000</td>\n",
       "      <td id=\"T_dc26b_row2_col3\" class=\"data row2 col3\" >0.936000</td>\n",
       "    </tr>\n",
       "  </tbody>\n",
       "</table>\n"
      ],
      "text/plain": [
       "<pandas.io.formats.style.Styler at 0x152ceeae7c8>"
      ]
     },
     "execution_count": 65,
     "metadata": {},
     "output_type": "execute_result"
    }
   ],
   "source": [
    "model_names = ['XGBoost', 'LightGBM', 'VotingRegressor']\n",
    "\n",
    "model_scores = pd.DataFrame({\n",
    "    'Model': model_names,\n",
    "    'RMSE': rmse,\n",
    "    'MAE': mae,\n",
    "    'R2': r2\n",
    "})\n",
    "\n",
    "model_scores.style\\\n",
    ".highlight_min(subset=['RMSE', 'MAE'], color='lightgreen')\\\n",
    ".highlight_max(subset='R2', color='lightgreen')"
   ]
  },
  {
   "cell_type": "markdown",
   "id": "2a80f233",
   "metadata": {},
   "source": [
    "As with the validation set, the Voting Regressor model also produced the best performance with the test set, showing the lowest RMSE and MAE (which are rupees) and the highest R-squared score as indicated in the table above.\n",
    "\n",
    "This model can predict used car prices the most accurately out of the algorithms tested and can be used going forward to price any cars that have not yet been sold."
   ]
  },
  {
   "cell_type": "markdown",
   "id": "d6ee6686",
   "metadata": {},
   "source": [
    "#### Saving the model"
   ]
  },
  {
   "cell_type": "code",
   "execution_count": 66,
   "id": "0dd182c1",
   "metadata": {
    "scrolled": false
   },
   "outputs": [],
   "source": [
    "import joblib"
   ]
  },
  {
   "cell_type": "code",
   "execution_count": 67,
   "id": "379a7342",
   "metadata": {
    "scrolled": false
   },
   "outputs": [
    {
     "data": {
      "text/plain": [
       "['model.joblib']"
      ]
     },
     "execution_count": 67,
     "metadata": {},
     "output_type": "execute_result"
    }
   ],
   "source": [
    "joblib.dump(vr_grid, 'model.joblib')"
   ]
  },
  {
   "cell_type": "markdown",
   "id": "5dc017bb",
   "metadata": {},
   "source": [
    "## 6. Conclusion"
   ]
  },
  {
   "cell_type": "markdown",
   "id": "29de049e",
   "metadata": {},
   "source": [
    "#### Summary"
   ]
  },
  {
   "cell_type": "markdown",
   "id": "ef7b7a92",
   "metadata": {
    "scrolled": false
   },
   "source": [
    "In this project, the objective was to be able to predict the price of a used car in India based on its features. The dataset obtained was cleaned to become more usable for analysis and explored to provide a better understanding of the distribution and relationships between variables. Then, feature engineering was performed to prepare the data for machine learning algorithms and models using various different algorithms were built and tested. An ensemble was created out of the three highest-scoring models and this was able to predict used car prices most accurately from the test data.\n",
    "\n",
    "The final results achived were:\n",
    "- Root Mean Squared Error - __207,561 Rupees__\n",
    "- Mean Absolute Error - __83,452 Rupees__\n",
    "- Coefficient of Determination - __0.936__"
   ]
  },
  {
   "cell_type": "markdown",
   "id": "38729d7e",
   "metadata": {},
   "source": [
    "#### Future Work"
   ]
  },
  {
   "cell_type": "markdown",
   "id": "31914072",
   "metadata": {},
   "source": [
    "Although strong results were obtained from this study, there are areas where improvements could be made in the future to create even better models to make more accurate predictions of used car prices in India. These are listed below:\n",
    "- A grid search of a larger range of values could find more optimal hyperparameters for each of the algorithms but greater computational power would be needed which was a limiting factor in this analysis\n",
    "- More regression algorithms could be tested and perhaps added to the ensemble which could increase overall performance\n",
    "- More data (more entries in the dataset and even extra features) on used cars sold can be obtained to better train the model, especially if more samples of the rarer features (e.g. the 14-seater car or less popular manufacturers) were added to the dataset."
   ]
  }
 ],
 "metadata": {
  "kernelspec": {
   "display_name": "Python 3 (ipykernel)",
   "language": "python",
   "name": "python3"
  },
  "language_info": {
   "codemirror_mode": {
    "name": "ipython",
    "version": 3
   },
   "file_extension": ".py",
   "mimetype": "text/x-python",
   "name": "python",
   "nbconvert_exporter": "python",
   "pygments_lexer": "ipython3",
   "version": "3.7.4"
  }
 },
 "nbformat": 4,
 "nbformat_minor": 5
}
